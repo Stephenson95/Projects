{
 "cells": [
  {
   "cell_type": "code",
   "execution_count": 159,
   "metadata": {},
   "outputs": [],
   "source": [
    "# Load relevant packages:\n",
    "import numpy as np\n",
    "from scipy import sparse\n",
    "import pandas as pd\n",
    "import matplotlib.pyplot as plt\n",
    "from plotnine import *\n",
    "import seaborn as sns\n",
    "\n",
    "#sklearn packages\n",
    "from sklearn.linear_model import LogisticRegression\n",
    "from sklearn.metrics import confusion_matrix\n",
    "from sklearn import metrics\n",
    "from sklearn.metrics import recall_score\n",
    "from sklearn.model_selection import train_test_split\n",
    "\n",
    "from IPython.display import display"
   ]
  },
  {
   "cell_type": "code",
   "execution_count": 160,
   "metadata": {},
   "outputs": [],
   "source": [
    "#Text Formats\n",
    "class color:\n",
    "    BOLD = '\\033[1m'\n",
    "    UNDERLINE = '\\033[4m'\n",
    "    END = '\\033[0m'"
   ]
  },
  {
   "cell_type": "code",
   "execution_count": 161,
   "metadata": {},
   "outputs": [
    {
     "data": {
      "text/html": [
       "<div>\n",
       "<style scoped>\n",
       "    .dataframe tbody tr th:only-of-type {\n",
       "        vertical-align: middle;\n",
       "    }\n",
       "\n",
       "    .dataframe tbody tr th {\n",
       "        vertical-align: top;\n",
       "    }\n",
       "\n",
       "    .dataframe thead th {\n",
       "        text-align: right;\n",
       "    }\n",
       "</style>\n",
       "<table border=\"1\" class=\"dataframe\">\n",
       "  <thead>\n",
       "    <tr style=\"text-align: right;\">\n",
       "      <th></th>\n",
       "      <th>Pregnancies</th>\n",
       "      <th>Glucose</th>\n",
       "      <th>BloodPressure</th>\n",
       "      <th>SkinThickness</th>\n",
       "      <th>Insulin</th>\n",
       "      <th>BMI</th>\n",
       "      <th>DiabetesPedigreeFunction</th>\n",
       "      <th>Age</th>\n",
       "      <th>Outcome</th>\n",
       "    </tr>\n",
       "  </thead>\n",
       "  <tbody>\n",
       "    <tr>\n",
       "      <th>0</th>\n",
       "      <td>6</td>\n",
       "      <td>148</td>\n",
       "      <td>72</td>\n",
       "      <td>35</td>\n",
       "      <td>0</td>\n",
       "      <td>33.6</td>\n",
       "      <td>0.627</td>\n",
       "      <td>50</td>\n",
       "      <td>1</td>\n",
       "    </tr>\n",
       "    <tr>\n",
       "      <th>1</th>\n",
       "      <td>1</td>\n",
       "      <td>85</td>\n",
       "      <td>66</td>\n",
       "      <td>29</td>\n",
       "      <td>0</td>\n",
       "      <td>26.6</td>\n",
       "      <td>0.351</td>\n",
       "      <td>31</td>\n",
       "      <td>0</td>\n",
       "    </tr>\n",
       "    <tr>\n",
       "      <th>2</th>\n",
       "      <td>8</td>\n",
       "      <td>183</td>\n",
       "      <td>64</td>\n",
       "      <td>0</td>\n",
       "      <td>0</td>\n",
       "      <td>23.3</td>\n",
       "      <td>0.672</td>\n",
       "      <td>32</td>\n",
       "      <td>1</td>\n",
       "    </tr>\n",
       "    <tr>\n",
       "      <th>3</th>\n",
       "      <td>1</td>\n",
       "      <td>89</td>\n",
       "      <td>66</td>\n",
       "      <td>23</td>\n",
       "      <td>94</td>\n",
       "      <td>28.1</td>\n",
       "      <td>0.167</td>\n",
       "      <td>21</td>\n",
       "      <td>0</td>\n",
       "    </tr>\n",
       "    <tr>\n",
       "      <th>4</th>\n",
       "      <td>0</td>\n",
       "      <td>137</td>\n",
       "      <td>40</td>\n",
       "      <td>35</td>\n",
       "      <td>168</td>\n",
       "      <td>43.1</td>\n",
       "      <td>2.288</td>\n",
       "      <td>33</td>\n",
       "      <td>1</td>\n",
       "    </tr>\n",
       "  </tbody>\n",
       "</table>\n",
       "</div>"
      ],
      "text/plain": [
       "   Pregnancies  Glucose  BloodPressure  SkinThickness  Insulin   BMI  \\\n",
       "0            6      148             72             35        0  33.6   \n",
       "1            1       85             66             29        0  26.6   \n",
       "2            8      183             64              0        0  23.3   \n",
       "3            1       89             66             23       94  28.1   \n",
       "4            0      137             40             35      168  43.1   \n",
       "\n",
       "   DiabetesPedigreeFunction  Age  Outcome  \n",
       "0                     0.627   50        1  \n",
       "1                     0.351   31        0  \n",
       "2                     0.672   32        1  \n",
       "3                     0.167   21        0  \n",
       "4                     2.288   33        1  "
      ]
     },
     "execution_count": 161,
     "metadata": {},
     "output_type": "execute_result"
    }
   ],
   "source": [
    "#Load the dataset\n",
    "data = pd.read_csv(r'C:\\Users\\Stephenson\\Desktop\\Coding\\Machine Learning and Data Mining\\Final Assessment\\data\\diabetes.csv')\n",
    "#Looking at the dataset\n",
    "data.head()"
   ]
  },
  {
   "cell_type": "code",
   "execution_count": 162,
   "metadata": {},
   "outputs": [
    {
     "name": "stdout",
     "output_type": "stream",
     "text": [
      "\u001b[1mList of Variables\u001b[0m: Index(['Pregnancies', 'Glucose', 'BloodPressure', 'SkinThickness', 'Insulin',\n",
      "       'BMI', 'DiabetesPedigreeFunction', 'Age', 'Outcome'],\n",
      "      dtype='object')\n",
      "\u001b[1m\n",
      "Number of Predictor Variables\u001b[0m: 8\n"
     ]
    }
   ],
   "source": [
    "#List of variables that will be used in this dataset\n",
    "print(color.BOLD+\"List of Variables\"+color.END+\": {}\".format(data.columns))\n",
    "print(color.BOLD+\"\\nNumber of Predictor Variables\"+color.END+\": {}\".format(len(data.columns)-1))"
   ]
  },
  {
   "cell_type": "code",
   "execution_count": 163,
   "metadata": {},
   "outputs": [
    {
     "name": "stdout",
     "output_type": "stream",
     "text": [
      "\u001b[1mNumber of Observations\u001b[0m: 768\n"
     ]
    }
   ],
   "source": [
    "#Number of Observations\n",
    "print(color.BOLD+\"Number of Observations\"+color.END+\": {}\".format(len(data.index)))"
   ]
  },
  {
   "cell_type": "markdown",
   "metadata": {},
   "source": [
    "##################################################Data Dictionary###############################################################\n",
    "#Continuous Variables#\n",
    "Pregnancies: number of pregnancies the individuals had prior to the collection of data (number from 0 onwards) \n",
    "Glucose: glucose level of the patient after two hours of ingestion of carbohydrate (mg/dL)\n",
    "Blood Pressure:blood pressure of the patient (mmHg)\n",
    "SkinThickness: skin fold thickness (mm)\n",
    "Insulin: insulin level measured after two hours of ingestion of carbohydrate\n",
    "BMI: Body Mass Index (weight of patient divided by height of patient)\n",
    "DiabetesPedigreeFunction:a function which scores likelihood of diabetes based on family history\n",
    "Age: age in years (cohort taken above 20 years)\n",
    "\n",
    "#Categorical Variables#\n",
    "Outcome: Whether the patient has diabetes mellitus within 5 years (0 means no, 1 means yes)"
   ]
  },
  {
   "cell_type": "markdown",
   "metadata": {},
   "source": [
    "####################################################Data Exploration############################################################"
   ]
  },
  {
   "cell_type": "code",
   "execution_count": 164,
   "metadata": {},
   "outputs": [
    {
     "data": {
      "text/html": [
       "<div>\n",
       "<style scoped>\n",
       "    .dataframe tbody tr th:only-of-type {\n",
       "        vertical-align: middle;\n",
       "    }\n",
       "\n",
       "    .dataframe tbody tr th {\n",
       "        vertical-align: top;\n",
       "    }\n",
       "\n",
       "    .dataframe thead th {\n",
       "        text-align: right;\n",
       "    }\n",
       "</style>\n",
       "<table border=\"1\" class=\"dataframe\">\n",
       "  <thead>\n",
       "    <tr style=\"text-align: right;\">\n",
       "      <th></th>\n",
       "      <th>Pregnancies</th>\n",
       "      <th>Glucose</th>\n",
       "      <th>BloodPressure</th>\n",
       "      <th>SkinThickness</th>\n",
       "      <th>Insulin</th>\n",
       "      <th>BMI</th>\n",
       "      <th>DiabetesPedigreeFunction</th>\n",
       "      <th>Age</th>\n",
       "      <th>Outcome</th>\n",
       "    </tr>\n",
       "  </thead>\n",
       "  <tbody>\n",
       "    <tr>\n",
       "      <th>count</th>\n",
       "      <td>768.000000</td>\n",
       "      <td>768.000000</td>\n",
       "      <td>768.000000</td>\n",
       "      <td>768.000000</td>\n",
       "      <td>768.000000</td>\n",
       "      <td>768.000000</td>\n",
       "      <td>768.000000</td>\n",
       "      <td>768.000000</td>\n",
       "      <td>768.000000</td>\n",
       "    </tr>\n",
       "    <tr>\n",
       "      <th>mean</th>\n",
       "      <td>3.845052</td>\n",
       "      <td>120.894531</td>\n",
       "      <td>69.105469</td>\n",
       "      <td>20.536458</td>\n",
       "      <td>79.799479</td>\n",
       "      <td>31.992578</td>\n",
       "      <td>0.471876</td>\n",
       "      <td>33.240885</td>\n",
       "      <td>0.348958</td>\n",
       "    </tr>\n",
       "    <tr>\n",
       "      <th>std</th>\n",
       "      <td>3.369578</td>\n",
       "      <td>31.972618</td>\n",
       "      <td>19.355807</td>\n",
       "      <td>15.952218</td>\n",
       "      <td>115.244002</td>\n",
       "      <td>7.884160</td>\n",
       "      <td>0.331329</td>\n",
       "      <td>11.760232</td>\n",
       "      <td>0.476951</td>\n",
       "    </tr>\n",
       "    <tr>\n",
       "      <th>min</th>\n",
       "      <td>0.000000</td>\n",
       "      <td>0.000000</td>\n",
       "      <td>0.000000</td>\n",
       "      <td>0.000000</td>\n",
       "      <td>0.000000</td>\n",
       "      <td>0.000000</td>\n",
       "      <td>0.078000</td>\n",
       "      <td>21.000000</td>\n",
       "      <td>0.000000</td>\n",
       "    </tr>\n",
       "    <tr>\n",
       "      <th>25%</th>\n",
       "      <td>1.000000</td>\n",
       "      <td>99.000000</td>\n",
       "      <td>62.000000</td>\n",
       "      <td>0.000000</td>\n",
       "      <td>0.000000</td>\n",
       "      <td>27.300000</td>\n",
       "      <td>0.243750</td>\n",
       "      <td>24.000000</td>\n",
       "      <td>0.000000</td>\n",
       "    </tr>\n",
       "    <tr>\n",
       "      <th>50%</th>\n",
       "      <td>3.000000</td>\n",
       "      <td>117.000000</td>\n",
       "      <td>72.000000</td>\n",
       "      <td>23.000000</td>\n",
       "      <td>30.500000</td>\n",
       "      <td>32.000000</td>\n",
       "      <td>0.372500</td>\n",
       "      <td>29.000000</td>\n",
       "      <td>0.000000</td>\n",
       "    </tr>\n",
       "    <tr>\n",
       "      <th>75%</th>\n",
       "      <td>6.000000</td>\n",
       "      <td>140.250000</td>\n",
       "      <td>80.000000</td>\n",
       "      <td>32.000000</td>\n",
       "      <td>127.250000</td>\n",
       "      <td>36.600000</td>\n",
       "      <td>0.626250</td>\n",
       "      <td>41.000000</td>\n",
       "      <td>1.000000</td>\n",
       "    </tr>\n",
       "    <tr>\n",
       "      <th>max</th>\n",
       "      <td>17.000000</td>\n",
       "      <td>199.000000</td>\n",
       "      <td>122.000000</td>\n",
       "      <td>99.000000</td>\n",
       "      <td>846.000000</td>\n",
       "      <td>67.100000</td>\n",
       "      <td>2.420000</td>\n",
       "      <td>81.000000</td>\n",
       "      <td>1.000000</td>\n",
       "    </tr>\n",
       "  </tbody>\n",
       "</table>\n",
       "</div>"
      ],
      "text/plain": [
       "       Pregnancies     Glucose  BloodPressure  SkinThickness     Insulin  \\\n",
       "count   768.000000  768.000000     768.000000     768.000000  768.000000   \n",
       "mean      3.845052  120.894531      69.105469      20.536458   79.799479   \n",
       "std       3.369578   31.972618      19.355807      15.952218  115.244002   \n",
       "min       0.000000    0.000000       0.000000       0.000000    0.000000   \n",
       "25%       1.000000   99.000000      62.000000       0.000000    0.000000   \n",
       "50%       3.000000  117.000000      72.000000      23.000000   30.500000   \n",
       "75%       6.000000  140.250000      80.000000      32.000000  127.250000   \n",
       "max      17.000000  199.000000     122.000000      99.000000  846.000000   \n",
       "\n",
       "              BMI  DiabetesPedigreeFunction         Age     Outcome  \n",
       "count  768.000000                768.000000  768.000000  768.000000  \n",
       "mean    31.992578                  0.471876   33.240885    0.348958  \n",
       "std      7.884160                  0.331329   11.760232    0.476951  \n",
       "min      0.000000                  0.078000   21.000000    0.000000  \n",
       "25%     27.300000                  0.243750   24.000000    0.000000  \n",
       "50%     32.000000                  0.372500   29.000000    0.000000  \n",
       "75%     36.600000                  0.626250   41.000000    1.000000  \n",
       "max     67.100000                  2.420000   81.000000    1.000000  "
      ]
     },
     "execution_count": 164,
     "metadata": {},
     "output_type": "execute_result"
    }
   ],
   "source": [
    "#Initial EDA\n",
    "data.describe()"
   ]
  },
  {
   "cell_type": "code",
   "execution_count": 165,
   "metadata": {},
   "outputs": [
    {
     "name": "stdout",
     "output_type": "stream",
     "text": [
      "\u001b[1m\u001b[4mFactor dataset\n",
      "\u001b[0m\n",
      "     Pregnancies  Glucose  BloodPressure  SkinThickness  Insulin   BMI  \\\n",
      "0              6      148             72             35        0  33.6   \n",
      "1              1       85             66             29        0  26.6   \n",
      "2              8      183             64              0        0  23.3   \n",
      "3              1       89             66             23       94  28.1   \n",
      "4              0      137             40             35      168  43.1   \n",
      "5              5      116             74              0        0  25.6   \n",
      "6              3       78             50             32       88  31.0   \n",
      "7             10      115              0              0        0  35.3   \n",
      "8              2      197             70             45      543  30.5   \n",
      "9              8      125             96              0        0   0.0   \n",
      "10             4      110             92              0        0  37.6   \n",
      "11            10      168             74              0        0  38.0   \n",
      "12            10      139             80              0        0  27.1   \n",
      "13             1      189             60             23      846  30.1   \n",
      "14             5      166             72             19      175  25.8   \n",
      "15             7      100              0              0        0  30.0   \n",
      "16             0      118             84             47      230  45.8   \n",
      "17             7      107             74              0        0  29.6   \n",
      "18             1      103             30             38       83  43.3   \n",
      "19             1      115             70             30       96  34.6   \n",
      "20             3      126             88             41      235  39.3   \n",
      "21             8       99             84              0        0  35.4   \n",
      "22             7      196             90              0        0  39.8   \n",
      "23             9      119             80             35        0  29.0   \n",
      "24            11      143             94             33      146  36.6   \n",
      "25            10      125             70             26      115  31.1   \n",
      "26             7      147             76              0        0  39.4   \n",
      "27             1       97             66             15      140  23.2   \n",
      "28            13      145             82             19      110  22.2   \n",
      "29             5      117             92              0        0  34.1   \n",
      "..           ...      ...            ...            ...      ...   ...   \n",
      "738            2       99             60             17      160  36.6   \n",
      "739            1      102             74              0        0  39.5   \n",
      "740           11      120             80             37      150  42.3   \n",
      "741            3      102             44             20       94  30.8   \n",
      "742            1      109             58             18      116  28.5   \n",
      "743            9      140             94              0        0  32.7   \n",
      "744           13      153             88             37      140  40.6   \n",
      "745           12      100             84             33      105  30.0   \n",
      "746            1      147             94             41        0  49.3   \n",
      "747            1       81             74             41       57  46.3   \n",
      "748            3      187             70             22      200  36.4   \n",
      "749            6      162             62              0        0  24.3   \n",
      "750            4      136             70              0        0  31.2   \n",
      "751            1      121             78             39       74  39.0   \n",
      "752            3      108             62             24        0  26.0   \n",
      "753            0      181             88             44      510  43.3   \n",
      "754            8      154             78             32        0  32.4   \n",
      "755            1      128             88             39      110  36.5   \n",
      "756            7      137             90             41        0  32.0   \n",
      "757            0      123             72              0        0  36.3   \n",
      "758            1      106             76              0        0  37.5   \n",
      "759            6      190             92              0        0  35.5   \n",
      "760            2       88             58             26       16  28.4   \n",
      "761            9      170             74             31        0  44.0   \n",
      "762            9       89             62              0        0  22.5   \n",
      "763           10      101             76             48      180  32.9   \n",
      "764            2      122             70             27        0  36.8   \n",
      "765            5      121             72             23      112  26.2   \n",
      "766            1      126             60              0        0  30.1   \n",
      "767            1       93             70             31        0  30.4   \n",
      "\n",
      "     DiabetesPedigreeFunction  Age  \n",
      "0                       0.627   50  \n",
      "1                       0.351   31  \n",
      "2                       0.672   32  \n",
      "3                       0.167   21  \n",
      "4                       2.288   33  \n",
      "5                       0.201   30  \n",
      "6                       0.248   26  \n",
      "7                       0.134   29  \n",
      "8                       0.158   53  \n",
      "9                       0.232   54  \n",
      "10                      0.191   30  \n",
      "11                      0.537   34  \n",
      "12                      1.441   57  \n",
      "13                      0.398   59  \n",
      "14                      0.587   51  \n",
      "15                      0.484   32  \n",
      "16                      0.551   31  \n",
      "17                      0.254   31  \n",
      "18                      0.183   33  \n",
      "19                      0.529   32  \n",
      "20                      0.704   27  \n",
      "21                      0.388   50  \n",
      "22                      0.451   41  \n",
      "23                      0.263   29  \n",
      "24                      0.254   51  \n",
      "25                      0.205   41  \n",
      "26                      0.257   43  \n",
      "27                      0.487   22  \n",
      "28                      0.245   57  \n",
      "29                      0.337   38  \n",
      "..                        ...  ...  \n",
      "738                     0.453   21  \n",
      "739                     0.293   42  \n",
      "740                     0.785   48  \n",
      "741                     0.400   26  \n",
      "742                     0.219   22  \n",
      "743                     0.734   45  \n",
      "744                     1.174   39  \n",
      "745                     0.488   46  \n",
      "746                     0.358   27  \n",
      "747                     1.096   32  \n",
      "748                     0.408   36  \n",
      "749                     0.178   50  \n",
      "750                     1.182   22  \n",
      "751                     0.261   28  \n",
      "752                     0.223   25  \n",
      "753                     0.222   26  \n",
      "754                     0.443   45  \n",
      "755                     1.057   37  \n",
      "756                     0.391   39  \n",
      "757                     0.258   52  \n",
      "758                     0.197   26  \n",
      "759                     0.278   66  \n",
      "760                     0.766   22  \n",
      "761                     0.403   43  \n",
      "762                     0.142   33  \n",
      "763                     0.171   63  \n",
      "764                     0.340   27  \n",
      "765                     0.245   30  \n",
      "766                     0.349   47  \n",
      "767                     0.315   23  \n",
      "\n",
      "[768 rows x 8 columns]\n",
      "\u001b[1m\u001b[4m\n",
      "Outcome Dataset\n",
      "\u001b[0m\n"
     ]
    },
    {
     "name": "stderr",
     "output_type": "stream",
     "text": [
      "C:\\Users\\Stephenson\\Anaconda3\\lib\\site-packages\\ipykernel_launcher.py:2: UserWarning: Pandas doesn't allow columns to be created via a new attribute name - see https://pandas.pydata.org/pandas-docs/stable/indexing.html#attribute-access\n",
      "  \n",
      "C:\\Users\\Stephenson\\Anaconda3\\lib\\site-packages\\ipykernel_launcher.py:3: UserWarning: Pandas doesn't allow columns to be created via a new attribute name - see https://pandas.pydata.org/pandas-docs/stable/indexing.html#attribute-access\n",
      "  This is separate from the ipykernel package so we can avoid doing imports until\n"
     ]
    },
    {
     "data": {
      "text/plain": [
       "0    1\n",
       "1    0\n",
       "2    1\n",
       "3    0\n",
       "4    1\n",
       "Name: Outcome, dtype: int64"
      ]
     },
     "execution_count": 165,
     "metadata": {},
     "output_type": "execute_result"
    }
   ],
   "source": [
    "#Splitting the data set to outcomes and factors for EDA\n",
    "data.fact = data.iloc[:,0:8]\n",
    "data.out = data.iloc[:,8]\n",
    "#Double Check\n",
    "print(color.BOLD+color.UNDERLINE+\"Factor dataset\\n\"+color.END)\n",
    "print(data.fact)\n",
    "print(color.BOLD+color.UNDERLINE+\"\\nOutcome Dataset\\n\"+color.END)\n",
    "data.out.head()"
   ]
  },
  {
   "cell_type": "code",
   "execution_count": 166,
   "metadata": {},
   "outputs": [
    {
     "data": {
      "image/png": "[encoded data removed]",
      "text/plain": [
       "<Figure size 640x480 with 1 Axes>"
      ]
     },
     "metadata": {},
     "output_type": "display_data"
    },
    {
     "name": "stdout",
     "output_type": "stream",
     "text": [
      "<ggplot: (-9223372036161873250)>\n"
     ]
    }
   ],
   "source": [
    "#Visualise the dataset\n",
    "p = ggplot(aes(x=\"Outcome\"), data=data)+geom_bar(width=0.5)+ggtitle(\"Outcome\")\n",
    "print(p)"
   ]
  },
  {
   "cell_type": "code",
   "execution_count": 167,
   "metadata": {},
   "outputs": [
    {
     "data": {
      "image/png": "[encoded data removed]",
      "text/plain": [
       "<Figure size 640x480 with 1 Axes>"
      ]
     },
     "metadata": {},
     "output_type": "display_data"
    },
    {
     "name": "stdout",
     "output_type": "stream",
     "text": [
      "<ggplot: (692905725)>\n"
     ]
    }
   ],
   "source": [
    "#Pregnancies\n",
    "p = ggplot(aes(x='Pregnancies'), data=data)+geom_histogram(binwidth=1)+ggtitle(\"Pregnancies\") \n",
    "print(p)"
   ]
  },
  {
   "cell_type": "code",
   "execution_count": 168,
   "metadata": {},
   "outputs": [
    {
     "data": {
      "image/png": "[encoded data removed]",
      "text/plain": [
       "<Figure size 640x480 with 1 Axes>"
      ]
     },
     "metadata": {},
     "output_type": "display_data"
    },
    {
     "name": "stdout",
     "output_type": "stream",
     "text": [
      "<ggplot: (-9223372036161755802)>\n"
     ]
    }
   ],
   "source": [
    "#Glucose\n",
    "p = ggplot(aes(x='Glucose'), data=data)+geom_histogram(binwidth=1)+ggtitle(\"Glucose\")\n",
    "print(p)"
   ]
  },
  {
   "cell_type": "code",
   "execution_count": 169,
   "metadata": {},
   "outputs": [
    {
     "data": {
      "image/png": "[encoded data removed]",
      "text/plain": [
       "<Figure size 640x480 with 1 Axes>"
      ]
     },
     "metadata": {},
     "output_type": "display_data"
    },
    {
     "name": "stdout",
     "output_type": "stream",
     "text": [
      "<ggplot: (-9223372036161755732)>\n"
     ]
    }
   ],
   "source": [
    "#Skin Thickness\n",
    "p = ggplot(aes(x='SkinThickness'), data=data)+geom_histogram(binwidth=1)+ggtitle(\"SkinThickness\") \n",
    "print(p)"
   ]
  },
  {
   "cell_type": "code",
   "execution_count": 170,
   "metadata": {},
   "outputs": [
    {
     "data": {
      "image/png": "[encoded data removed]",
      "text/plain": [
       "<Figure size 640x480 with 1 Axes>"
      ]
     },
     "metadata": {},
     "output_type": "display_data"
    },
    {
     "name": "stdout",
     "output_type": "stream",
     "text": [
      "<ggplot: (-9223372036161799918)>\n"
     ]
    }
   ],
   "source": [
    "#Insulin\n",
    "p = ggplot(aes(x='Insulin'), data=data)+geom_histogram(binwidth=20)+ggtitle(\"Insulin\") \n",
    "print(p)"
   ]
  },
  {
   "cell_type": "code",
   "execution_count": 171,
   "metadata": {},
   "outputs": [
    {
     "data": {
      "image/png": "[encoded data removed]",
      "text/plain": [
       "<Figure size 640x480 with 1 Axes>"
      ]
     },
     "metadata": {},
     "output_type": "display_data"
    },
    {
     "name": "stdout",
     "output_type": "stream",
     "text": [
      "<ggplot: (-9223372036161720460)>\n"
     ]
    }
   ],
   "source": [
    "#BMI\n",
    "p = ggplot(aes(x='BMI'), data=data)+geom_histogram(binwidth=1)+ggtitle(\"BMI\")\n",
    "print(p)"
   ]
  },
  {
   "cell_type": "code",
   "execution_count": 172,
   "metadata": {},
   "outputs": [
    {
     "name": "stderr",
     "output_type": "stream",
     "text": [
      "C:\\Users\\Stephenson\\Anaconda3\\lib\\site-packages\\plotnine\\stats\\stat_bin.py:93: UserWarning: 'stat_bin()' using 'bins = 29'. Pick better value with 'binwidth'.\n",
      "  warn(msg.format(params['bins']))\n"
     ]
    },
    {
     "data": {
      "image/png": "[encoded data removed]",
      "text/plain": [
       "<Figure size 640x480 with 1 Axes>"
      ]
     },
     "metadata": {},
     "output_type": "display_data"
    },
    {
     "name": "stdout",
     "output_type": "stream",
     "text": [
      "<ggplot: (-9223372036161800409)>\n"
     ]
    }
   ],
   "source": [
    "#DiabetesPedigreeFunction\n",
    "p = ggplot(aes(x='DiabetesPedigreeFunction'), data=data)+geom_histogram()+ggtitle(\"Diabetes Pedigree Function\")\n",
    "print(p)"
   ]
  },
  {
   "cell_type": "code",
   "execution_count": 173,
   "metadata": {},
   "outputs": [
    {
     "name": "stderr",
     "output_type": "stream",
     "text": [
      "C:\\Users\\Stephenson\\Anaconda3\\lib\\site-packages\\plotnine\\stats\\stat_bin.py:93: UserWarning: 'stat_bin()' using 'bins = 17'. Pick better value with 'binwidth'.\n",
      "  warn(msg.format(params['bins']))\n"
     ]
    },
    {
     "data": {
      "image/png": "[encoded data removed]",
      "text/plain": [
       "<Figure size 640x480 with 1 Axes>"
      ]
     },
     "metadata": {},
     "output_type": "display_data"
    },
    {
     "name": "stdout",
     "output_type": "stream",
     "text": [
      "<ggplot: (693047879)>\n"
     ]
    }
   ],
   "source": [
    "#Age\n",
    "p = ggplot(aes(x='Age'), data=data)+geom_histogram()+ggtitle(\"Age\")\n",
    "print(p)"
   ]
  },
  {
   "cell_type": "code",
   "execution_count": 174,
   "metadata": {},
   "outputs": [
    {
     "name": "stdout",
     "output_type": "stream",
     "text": [
      "<class 'pandas.core.frame.DataFrame'>\n",
      "RangeIndex: 768 entries, 0 to 767\n",
      "Data columns (total 9 columns):\n",
      "Pregnancies                 768 non-null int64\n",
      "Glucose                     768 non-null int64\n",
      "BloodPressure               768 non-null int64\n",
      "SkinThickness               768 non-null int64\n",
      "Insulin                     768 non-null int64\n",
      "BMI                         768 non-null float64\n",
      "DiabetesPedigreeFunction    768 non-null float64\n",
      "Age                         768 non-null int64\n",
      "Outcome                     768 non-null int64\n",
      "dtypes: float64(2), int64(7)\n",
      "memory usage: 54.1 KB\n"
     ]
    }
   ],
   "source": [
    "#Check for Nulls\n",
    "data.info()"
   ]
  },
  {
   "cell_type": "markdown",
   "metadata": {},
   "source": [
    "Looking at the outcome variable, we can see that there is a larger number of 0 samples (no diabetes) than 1 samples which is intuitive. However, this indicates a need to balance out the class weights when fitting a regression to ensure the model does not categorise all future predictions as 0. \n",
    "\n",
    "From the Variable frequency distributions, we can see that there are some variables that have a suspiciously large number of spikes at values of 0 (despite the variables being supposedly non-null integers/floats). These variables are Insulin, Gluscose, Skin Thickness and BMI. This indicates a problem with data integrity or the data collection process as it is not plausible to have a BMI value of 0, hence the datapoints may be removed (or the variable) depending on the number of datapoints that have 0 for these variables."
   ]
  },
  {
   "cell_type": "code",
   "execution_count": 175,
   "metadata": {},
   "outputs": [
    {
     "data": {
      "text/plain": [
       "Pregnancies                 0\n",
       "Glucose                     0\n",
       "BloodPressure               0\n",
       "SkinThickness               0\n",
       "Insulin                     0\n",
       "BMI                         0\n",
       "DiabetesPedigreeFunction    0\n",
       "Age                         0\n",
       "Outcome                     0\n",
       "dtype: int64"
      ]
     },
     "execution_count": 175,
     "metadata": {},
     "output_type": "execute_result"
    }
   ],
   "source": [
    "#Checking for NA entries\n",
    "data.isnull().sum(axis=0)"
   ]
  },
  {
   "cell_type": "markdown",
   "metadata": {},
   "source": [
    "There are no NA values in the dataset."
   ]
  },
  {
   "cell_type": "code",
   "execution_count": 176,
   "metadata": {},
   "outputs": [
    {
     "name": "stdout",
     "output_type": "stream",
     "text": [
      "\u001b[1m\u001b[4mCorrelation Matrix\u001b[0m\n",
      "                          Pregnancies   Glucose  BloodPressure  SkinThickness  \\\n",
      "Pregnancies                  1.000000  0.129459       0.141282      -0.081672   \n",
      "Glucose                      0.129459  1.000000       0.152590       0.057328   \n",
      "BloodPressure                0.141282  0.152590       1.000000       0.207371   \n",
      "SkinThickness               -0.081672  0.057328       0.207371       1.000000   \n",
      "Insulin                     -0.073535  0.331357       0.088933       0.436783   \n",
      "BMI                          0.017683  0.221071       0.281805       0.392573   \n",
      "DiabetesPedigreeFunction    -0.033523  0.137337       0.041265       0.183928   \n",
      "Age                          0.544341  0.263514       0.239528      -0.113970   \n",
      "Outcome                      0.221898  0.466581       0.065068       0.074752   \n",
      "\n",
      "                           Insulin       BMI  DiabetesPedigreeFunction  \\\n",
      "Pregnancies              -0.073535  0.017683                 -0.033523   \n",
      "Glucose                   0.331357  0.221071                  0.137337   \n",
      "BloodPressure             0.088933  0.281805                  0.041265   \n",
      "SkinThickness             0.436783  0.392573                  0.183928   \n",
      "Insulin                   1.000000  0.197859                  0.185071   \n",
      "BMI                       0.197859  1.000000                  0.140647   \n",
      "DiabetesPedigreeFunction  0.185071  0.140647                  1.000000   \n",
      "Age                      -0.042163  0.036242                  0.033561   \n",
      "Outcome                   0.130548  0.292695                  0.173844   \n",
      "\n",
      "                               Age   Outcome  \n",
      "Pregnancies               0.544341  0.221898  \n",
      "Glucose                   0.263514  0.466581  \n",
      "BloodPressure             0.239528  0.065068  \n",
      "SkinThickness            -0.113970  0.074752  \n",
      "Insulin                  -0.042163  0.130548  \n",
      "BMI                       0.036242  0.292695  \n",
      "DiabetesPedigreeFunction  0.033561  0.173844  \n",
      "Age                       1.000000  0.238356  \n",
      "Outcome                   0.238356  1.000000  \n",
      "\u001b[1m\u001b[4m\n",
      "Visual Correlation Heat Map\n",
      "\u001b[0m\n",
      "AxesSubplot(0.125,0.125;0.62x0.755)\n"
     ]
    },
    {
     "data": {
      "image/png": "[encoded data removed]",
      "text/plain": [
       "<Figure size 432x288 with 2 Axes>"
      ]
     },
     "metadata": {},
     "output_type": "display_data"
    }
   ],
   "source": [
    "#Correlation Plot\n",
    "corr = data.corr()\n",
    "print(color.BOLD+color.UNDERLINE+\"Correlation Matrix\"+color.END)\n",
    "print(corr)\n",
    "print(color.BOLD+color.UNDERLINE+\"\\nVisual Correlation Heat Map\\n\"+color.END)\n",
    "print(sns.heatmap(corr))"
   ]
  },
  {
   "cell_type": "markdown",
   "metadata": {},
   "source": [
    "We can see that there isn't that much correlation between the variables."
   ]
  },
  {
   "cell_type": "code",
   "execution_count": 177,
   "metadata": {},
   "outputs": [
    {
     "data": {
      "text/plain": [
       "Text(0, 0.5, 'Average Age')"
      ]
     },
     "execution_count": 177,
     "metadata": {},
     "output_type": "execute_result"
    },
    {
     "data": {
      "image/png": "[encoded data removed]",
      "text/plain": [
       "<Figure size 432x288 with 1 Axes>"
      ]
     },
     "metadata": {},
     "output_type": "display_data"
    }
   ],
   "source": [
    "#Univariate Analysis\n",
    "#For Age\n",
    "#Calculating mean of age for each outcome\n",
    "age_outcome0 = data.loc[data.Outcome==0, 'Age'].mean() \n",
    "age_outcome1 = data.loc[data.Outcome==1, 'Age'].mean() \n",
    "age_outcome = [age_outcome0, age_outcome1]\n",
    "\n",
    "#Plotting\n",
    "plt.bar(['0','1'], age_outcome)\n",
    "plt.title(\"Age vs Outcome\")\n",
    "plt.xlabel('Outcome')\n",
    "plt.ylabel('Average Age')"
   ]
  },
  {
   "cell_type": "code",
   "execution_count": 178,
   "metadata": {},
   "outputs": [
    {
     "data": {
      "text/plain": [
       "Text(0, 0.5, 'Average Pregnancies')"
      ]
     },
     "execution_count": 178,
     "metadata": {},
     "output_type": "execute_result"
    },
    {
     "data": {
      "image/png": "[encoded data removed]",
      "text/plain": [
       "<Figure size 432x288 with 1 Axes>"
      ]
     },
     "metadata": {},
     "output_type": "display_data"
    }
   ],
   "source": [
    "#For Pregnancies\n",
    "#Calculating mean of Pregnancies for each outcome\n",
    "preg_outcome0 = data.loc[data.Outcome==0, 'Pregnancies'].mean() \n",
    "preg_outcome1 = data.loc[data.Outcome==1, 'Pregnancies'].mean() \n",
    "preg_outcome = [preg_outcome0, preg_outcome1]\n",
    "\n",
    "#Plotting\n",
    "plt.bar(['0','1'], preg_outcome)\n",
    "plt.title(\"Pregnancies vs Outcome\")\n",
    "plt.xlabel('Outcome')\n",
    "plt.ylabel('Average Pregnancies')"
   ]
  },
  {
   "cell_type": "code",
   "execution_count": 179,
   "metadata": {},
   "outputs": [
    {
     "data": {
      "text/plain": [
       "Text(0, 0.5, 'Average Blood Pressure')"
      ]
     },
     "execution_count": 179,
     "metadata": {},
     "output_type": "execute_result"
    },
    {
     "data": {
      "image/png": "[encoded data removed]",
      "text/plain": [
       "<Figure size 432x288 with 1 Axes>"
      ]
     },
     "metadata": {},
     "output_type": "display_data"
    }
   ],
   "source": [
    "#For Blood Pressure\n",
    "#Calculating mean of Blood Pressure for each outcome\n",
    "BP_outcome0 = data.loc[data.Outcome==0, 'BloodPressure'].mean() \n",
    "BP_outcome1 = data.loc[data.Outcome==1, 'BloodPressure'].mean() \n",
    "BP_outcome = [BP_outcome0, BP_outcome1]\n",
    "\n",
    "#Plotting\n",
    "plt.bar(['0','1'], BP_outcome)\n",
    "plt.title(\"Blood Pressure vs Outcome\")\n",
    "plt.xlabel('Outcome')\n",
    "plt.ylabel('Average Blood Pressure')"
   ]
  },
  {
   "cell_type": "code",
   "execution_count": 180,
   "metadata": {},
   "outputs": [
    {
     "data": {
      "text/plain": [
       "Text(0, 0.5, 'Average Diabetes Pedigree Function')"
      ]
     },
     "execution_count": 180,
     "metadata": {},
     "output_type": "execute_result"
    },
    {
     "data": {
      "image/png": "[encoded data removed]",
      "text/plain": [
       "<Figure size 432x288 with 1 Axes>"
      ]
     },
     "metadata": {},
     "output_type": "display_data"
    }
   ],
   "source": [
    "#For Diabetes Pedigree Function\n",
    "#Calculating mean of Diabetes Pedigree Function for each outcome\n",
    "DPF_outcome0 = data.loc[data.Outcome==0, 'DiabetesPedigreeFunction'].mean() \n",
    "DPF_outcome1 = data.loc[data.Outcome==1, 'DiabetesPedigreeFunction'].mean() \n",
    "DPF_outcome = [DPF_outcome0, DPF_outcome1]\n",
    "\n",
    "#Plotting\n",
    "plt.bar(['0','1'], DPF_outcome)\n",
    "plt.title(\"Diabetes Pedigree Function vs Outcome\")\n",
    "plt.xlabel('Outcome')\n",
    "plt.ylabel('Average Diabetes Pedigree Function')"
   ]
  },
  {
   "cell_type": "code",
   "execution_count": 181,
   "metadata": {},
   "outputs": [
    {
     "data": {
      "text/plain": [
       "Text(0, 0.5, 'Average Glucose')"
      ]
     },
     "execution_count": 181,
     "metadata": {},
     "output_type": "execute_result"
    },
    {
     "data": {
      "image/png": "[encoded data removed]",
      "text/plain": [
       "<Figure size 432x288 with 1 Axes>"
      ]
     },
     "metadata": {},
     "output_type": "display_data"
    }
   ],
   "source": [
    "#For Glucose\n",
    "#Calculating mean of Glucose for each outcome\n",
    "Glu_outcome0 = data.loc[(data.Outcome==0)&(data.Glucose!=0), 'Glucose'].mean() \n",
    "Glu_outcome1 = data.loc[(data.Outcome==1)&(data.Glucose!=0), 'Glucose'].mean() \n",
    "Glu_outcome = [Glu_outcome0, Glu_outcome1]\n",
    "\n",
    "#Plotting\n",
    "plt.bar(['0','1'], Glu_outcome)\n",
    "plt.title(\"Glucose vs Outcome\")\n",
    "plt.xlabel('Outcome')\n",
    "plt.ylabel('Average Glucose')"
   ]
  },
  {
   "cell_type": "code",
   "execution_count": 182,
   "metadata": {},
   "outputs": [
    {
     "data": {
      "text/plain": [
       "Text(0, 0.5, 'Average BMI')"
      ]
     },
     "execution_count": 182,
     "metadata": {},
     "output_type": "execute_result"
    },
    {
     "data": {
      "image/png": "[encoded data removed]",
      "text/plain": [
       "<Figure size 432x288 with 1 Axes>"
      ]
     },
     "metadata": {},
     "output_type": "display_data"
    }
   ],
   "source": [
    "#For BMI\n",
    "#Calculating mean of BMI for each outcome\n",
    "BMI_outcome0 = data.loc[(data.Outcome==0) & (data.BMI!=0), 'BMI'].mean() \n",
    "BMI_outcome1 = data.loc[(data.Outcome==1) & (data.BMI!=0), 'BMI'].mean() \n",
    "BMI_outcome = [BMI_outcome0, BMI_outcome1]\n",
    "\n",
    "#Plotting\n",
    "plt.bar(['0','1'], BMI_outcome)\n",
    "plt.title(\"BMI vs Outcome\")\n",
    "plt.xlabel('Outcome')\n",
    "plt.ylabel('Average BMI')"
   ]
  },
  {
   "cell_type": "code",
   "execution_count": 183,
   "metadata": {},
   "outputs": [
    {
     "data": {
      "text/plain": [
       "Text(0, 0.5, 'Average Insulin')"
      ]
     },
     "execution_count": 183,
     "metadata": {},
     "output_type": "execute_result"
    },
    {
     "data": {
      "image/png": "[encoded data removed]",
      "text/plain": [
       "<Figure size 432x288 with 1 Axes>"
      ]
     },
     "metadata": {},
     "output_type": "display_data"
    }
   ],
   "source": [
    "#For Insulin\n",
    "#Calculating mean of Insulin for each outcome\n",
    "Ins_outcome0 = data.loc[(data.Outcome==0) & (data.Insulin!=0), 'Insulin'].mean() \n",
    "Ins_outcome1 = data.loc[(data.Outcome==1) & (data.Insulin!=0), 'Insulin'].mean() \n",
    "Ins_outcome = [Ins_outcome0, Ins_outcome1]\n",
    "\n",
    "#Plotting\n",
    "plt.bar(['0','1'], Ins_outcome)\n",
    "plt.title(\"Insulin vs Outcome\")\n",
    "plt.xlabel('Outcome')\n",
    "plt.ylabel('Average Insulin')"
   ]
  },
  {
   "cell_type": "code",
   "execution_count": 184,
   "metadata": {},
   "outputs": [
    {
     "data": {
      "text/plain": [
       "Text(0, 0.5, 'Average Skin Thickness')"
      ]
     },
     "execution_count": 184,
     "metadata": {},
     "output_type": "execute_result"
    },
    {
     "data": {
      "image/png": "[encoded data removed]",
      "text/plain": [
       "<Figure size 432x288 with 1 Axes>"
      ]
     },
     "metadata": {},
     "output_type": "display_data"
    }
   ],
   "source": [
    "#For Skin Thickness\n",
    "#Calculating mean of Skin Thickness for each outcome\n",
    "Skin_outcome0 = data.loc[(data.Outcome==0) & (data.SkinThickness!=0), 'SkinThickness'].mean() \n",
    "Skin_outcome1 = data.loc[(data.Outcome==1) & (data.SkinThickness!=0), 'SkinThickness'].mean() \n",
    "Skin_outcome = [Skin_outcome0, Skin_outcome1]\n",
    "\n",
    "#Plotting\n",
    "plt.bar(['0','1'], Skin_outcome)\n",
    "plt.title(\"Skin Thickness vs Outcome\")\n",
    "plt.xlabel('Outcome')\n",
    "plt.ylabel('Average Skin Thickness')"
   ]
  },
  {
   "cell_type": "markdown",
   "metadata": {},
   "source": [
    "Based on the average value of the predictors for each scenario of outcome we can see that most of the variables seem to have an effect on the outcome. Blood Pressure seems to have the smallest effect based on the visualisations and Insulin the biggest. "
   ]
  },
  {
   "cell_type": "code",
   "execution_count": 185,
   "metadata": {
    "scrolled": true
   },
   "outputs": [
    {
     "name": "stdout",
     "output_type": "stream",
     "text": [
      "\u001b[1m\u001b[4m% of Null Entries\u001b[0m\n",
      "\u001b[1m\n",
      "Glucose\u001b[0m: 0.65\n",
      "\u001b[1m\n",
      "Insulin\u001b[0m: 48.70\n",
      "\u001b[1m\n",
      "SkinThickness\u001b[0m: 29.56\n",
      "\u001b[1m\n",
      "BMI\u001b[0m: 1.43\n"
     ]
    }
   ],
   "source": [
    "#Inspecting suspicious data\n",
    "print(color.BOLD+color.UNDERLINE+\"% of Null Entries\"+color.END)\n",
    "\n",
    "print(color.BOLD+\"\\nGlucose\"+color.END+\": {:.2f}\".format((data[data.Glucose==0].shape[0]/data.shape[0])*100))\n",
    "\n",
    "print(color.BOLD+\"\\nInsulin\"+color.END+\": {:.2f}\".format((data[data.Insulin==0].shape[0]/data.shape[0])*100))\n",
    "\n",
    "print(color.BOLD+\"\\nSkinThickness\"+color.END+\": {:.2f}\".format((data[data.SkinThickness==0].shape[0]/data.shape[0])*100))\n",
    "\n",
    "print(color.BOLD+\"\\nBMI\"+color.END+\": {:.2f}\".format((data[data.BMI==0].shape[0]/data.shape[0])*100))"
   ]
  },
  {
   "cell_type": "markdown",
   "metadata": {},
   "source": [
    "We can see that there is a large amount of incorrect data for the Insulin variable with approximatly 49% of the dataset having null for insulin. This is followed by Skin Thickness with a percentage of 30%. \n",
    "\n",
    "To remediate this, we may think of either getting rid of the variable entirely (especially for insulin as nearly half of the dataset has this issue and remove these data points will cause an insufficient amount of data for our model training/testing). For the other smaller variables, we can deal with them using averaging techniques to approximate the value."
   ]
  },
  {
   "cell_type": "code",
   "execution_count": 186,
   "metadata": {
    "scrolled": false
   },
   "outputs": [
    {
     "data": {
      "text/html": [
       "<div>\n",
       "<style scoped>\n",
       "    .dataframe tbody tr th:only-of-type {\n",
       "        vertical-align: middle;\n",
       "    }\n",
       "\n",
       "    .dataframe tbody tr th {\n",
       "        vertical-align: top;\n",
       "    }\n",
       "\n",
       "    .dataframe thead th {\n",
       "        text-align: right;\n",
       "    }\n",
       "</style>\n",
       "<table border=\"1\" class=\"dataframe\">\n",
       "  <thead>\n",
       "    <tr style=\"text-align: right;\">\n",
       "      <th></th>\n",
       "      <th>Pregnancies</th>\n",
       "      <th>Glucose</th>\n",
       "      <th>BloodPressure</th>\n",
       "      <th>SkinThickness</th>\n",
       "      <th>Insulin</th>\n",
       "      <th>BMI</th>\n",
       "      <th>DiabetesPedigreeFunction</th>\n",
       "      <th>Age</th>\n",
       "      <th>Outcome</th>\n",
       "    </tr>\n",
       "  </thead>\n",
       "  <tbody>\n",
       "    <tr>\n",
       "      <th>75</th>\n",
       "      <td>1</td>\n",
       "      <td>0</td>\n",
       "      <td>48</td>\n",
       "      <td>20</td>\n",
       "      <td>0</td>\n",
       "      <td>24.7</td>\n",
       "      <td>0.140</td>\n",
       "      <td>22</td>\n",
       "      <td>0</td>\n",
       "    </tr>\n",
       "    <tr>\n",
       "      <th>182</th>\n",
       "      <td>1</td>\n",
       "      <td>0</td>\n",
       "      <td>74</td>\n",
       "      <td>20</td>\n",
       "      <td>23</td>\n",
       "      <td>27.7</td>\n",
       "      <td>0.299</td>\n",
       "      <td>21</td>\n",
       "      <td>0</td>\n",
       "    </tr>\n",
       "    <tr>\n",
       "      <th>342</th>\n",
       "      <td>1</td>\n",
       "      <td>0</td>\n",
       "      <td>68</td>\n",
       "      <td>35</td>\n",
       "      <td>0</td>\n",
       "      <td>32.0</td>\n",
       "      <td>0.389</td>\n",
       "      <td>22</td>\n",
       "      <td>0</td>\n",
       "    </tr>\n",
       "    <tr>\n",
       "      <th>349</th>\n",
       "      <td>5</td>\n",
       "      <td>0</td>\n",
       "      <td>80</td>\n",
       "      <td>32</td>\n",
       "      <td>0</td>\n",
       "      <td>41.0</td>\n",
       "      <td>0.346</td>\n",
       "      <td>37</td>\n",
       "      <td>1</td>\n",
       "    </tr>\n",
       "    <tr>\n",
       "      <th>502</th>\n",
       "      <td>6</td>\n",
       "      <td>0</td>\n",
       "      <td>68</td>\n",
       "      <td>41</td>\n",
       "      <td>0</td>\n",
       "      <td>39.0</td>\n",
       "      <td>0.727</td>\n",
       "      <td>41</td>\n",
       "      <td>1</td>\n",
       "    </tr>\n",
       "  </tbody>\n",
       "</table>\n",
       "</div>"
      ],
      "text/plain": [
       "     Pregnancies  Glucose  BloodPressure  SkinThickness  Insulin   BMI  \\\n",
       "75             1        0             48             20        0  24.7   \n",
       "182            1        0             74             20       23  27.7   \n",
       "342            1        0             68             35        0  32.0   \n",
       "349            5        0             80             32        0  41.0   \n",
       "502            6        0             68             41        0  39.0   \n",
       "\n",
       "     DiabetesPedigreeFunction  Age  Outcome  \n",
       "75                      0.140   22        0  \n",
       "182                     0.299   21        0  \n",
       "342                     0.389   22        0  \n",
       "349                     0.346   37        1  \n",
       "502                     0.727   41        1  "
      ]
     },
     "execution_count": 186,
     "metadata": {},
     "output_type": "execute_result"
    }
   ],
   "source": [
    "#Looking at Glucose\n",
    "data.loc[data.Glucose==0, :]"
   ]
  },
  {
   "cell_type": "code",
   "execution_count": 187,
   "metadata": {},
   "outputs": [
    {
     "data": {
      "image/png": "[encoded data removed]",
      "text/plain": [
       "<Figure size 504x504 with 1 Axes>"
      ]
     },
     "metadata": {},
     "output_type": "display_data"
    }
   ],
   "source": [
    "#Glucose Boxplot\n",
    "\n",
    "plt.figure(figsize=(7,7,))\n",
    "\n",
    "ax = sns.boxplot(x='Glucose', data=data[data.Glucose!=0])\n",
    "\n",
    "plt.title(\"Glucose Boxplot\")\n",
    "\n",
    "plt.show()"
   ]
  },
  {
   "cell_type": "code",
   "execution_count": 188,
   "metadata": {},
   "outputs": [
    {
     "data": {
      "text/html": [
       "<div>\n",
       "<style scoped>\n",
       "    .dataframe tbody tr th:only-of-type {\n",
       "        vertical-align: middle;\n",
       "    }\n",
       "\n",
       "    .dataframe tbody tr th {\n",
       "        vertical-align: top;\n",
       "    }\n",
       "\n",
       "    .dataframe thead th {\n",
       "        text-align: right;\n",
       "    }\n",
       "</style>\n",
       "<table border=\"1\" class=\"dataframe\">\n",
       "  <thead>\n",
       "    <tr style=\"text-align: right;\">\n",
       "      <th></th>\n",
       "      <th>Pregnancies</th>\n",
       "      <th>Glucose</th>\n",
       "      <th>BloodPressure</th>\n",
       "      <th>SkinThickness</th>\n",
       "      <th>Insulin</th>\n",
       "      <th>BMI</th>\n",
       "      <th>DiabetesPedigreeFunction</th>\n",
       "      <th>Age</th>\n",
       "      <th>Outcome</th>\n",
       "    </tr>\n",
       "  </thead>\n",
       "  <tbody>\n",
       "    <tr>\n",
       "      <th>0</th>\n",
       "      <td>6</td>\n",
       "      <td>148</td>\n",
       "      <td>72</td>\n",
       "      <td>35</td>\n",
       "      <td>0</td>\n",
       "      <td>33.6</td>\n",
       "      <td>0.627</td>\n",
       "      <td>50</td>\n",
       "      <td>1</td>\n",
       "    </tr>\n",
       "    <tr>\n",
       "      <th>1</th>\n",
       "      <td>1</td>\n",
       "      <td>85</td>\n",
       "      <td>66</td>\n",
       "      <td>29</td>\n",
       "      <td>0</td>\n",
       "      <td>26.6</td>\n",
       "      <td>0.351</td>\n",
       "      <td>31</td>\n",
       "      <td>0</td>\n",
       "    </tr>\n",
       "    <tr>\n",
       "      <th>2</th>\n",
       "      <td>8</td>\n",
       "      <td>183</td>\n",
       "      <td>64</td>\n",
       "      <td>0</td>\n",
       "      <td>0</td>\n",
       "      <td>23.3</td>\n",
       "      <td>0.672</td>\n",
       "      <td>32</td>\n",
       "      <td>1</td>\n",
       "    </tr>\n",
       "    <tr>\n",
       "      <th>5</th>\n",
       "      <td>5</td>\n",
       "      <td>116</td>\n",
       "      <td>74</td>\n",
       "      <td>0</td>\n",
       "      <td>0</td>\n",
       "      <td>25.6</td>\n",
       "      <td>0.201</td>\n",
       "      <td>30</td>\n",
       "      <td>0</td>\n",
       "    </tr>\n",
       "    <tr>\n",
       "      <th>7</th>\n",
       "      <td>10</td>\n",
       "      <td>115</td>\n",
       "      <td>0</td>\n",
       "      <td>0</td>\n",
       "      <td>0</td>\n",
       "      <td>35.3</td>\n",
       "      <td>0.134</td>\n",
       "      <td>29</td>\n",
       "      <td>0</td>\n",
       "    </tr>\n",
       "  </tbody>\n",
       "</table>\n",
       "</div>"
      ],
      "text/plain": [
       "   Pregnancies  Glucose  BloodPressure  SkinThickness  Insulin   BMI  \\\n",
       "0            6      148             72             35        0  33.6   \n",
       "1            1       85             66             29        0  26.6   \n",
       "2            8      183             64              0        0  23.3   \n",
       "5            5      116             74              0        0  25.6   \n",
       "7           10      115              0              0        0  35.3   \n",
       "\n",
       "   DiabetesPedigreeFunction  Age  Outcome  \n",
       "0                     0.627   50        1  \n",
       "1                     0.351   31        0  \n",
       "2                     0.672   32        1  \n",
       "5                     0.201   30        0  \n",
       "7                     0.134   29        0  "
      ]
     },
     "execution_count": 188,
     "metadata": {},
     "output_type": "execute_result"
    }
   ],
   "source": [
    "#looking at Insulin\n",
    "data.loc[data.Insulin==0, :].iloc[0:5, :]"
   ]
  },
  {
   "cell_type": "code",
   "execution_count": 189,
   "metadata": {},
   "outputs": [
    {
     "data": {
      "image/png": "[encoded data removed]",
      "text/plain": [
       "<Figure size 504x504 with 1 Axes>"
      ]
     },
     "metadata": {},
     "output_type": "display_data"
    }
   ],
   "source": [
    "#Insulin Boxplot\n",
    "\n",
    "plt.figure(figsize=(7,7,))\n",
    "\n",
    "ax = sns.boxplot(x='Insulin', data=data[data.Insulin!=0])\n",
    "\n",
    "plt.title(\"Insulin Boxplot\")\n",
    "\n",
    "plt.show()"
   ]
  },
  {
   "cell_type": "code",
   "execution_count": 190,
   "metadata": {},
   "outputs": [
    {
     "data": {
      "text/html": [
       "<div>\n",
       "<style scoped>\n",
       "    .dataframe tbody tr th:only-of-type {\n",
       "        vertical-align: middle;\n",
       "    }\n",
       "\n",
       "    .dataframe tbody tr th {\n",
       "        vertical-align: top;\n",
       "    }\n",
       "\n",
       "    .dataframe thead th {\n",
       "        text-align: right;\n",
       "    }\n",
       "</style>\n",
       "<table border=\"1\" class=\"dataframe\">\n",
       "  <thead>\n",
       "    <tr style=\"text-align: right;\">\n",
       "      <th></th>\n",
       "      <th>Pregnancies</th>\n",
       "      <th>Glucose</th>\n",
       "      <th>BloodPressure</th>\n",
       "      <th>SkinThickness</th>\n",
       "      <th>Insulin</th>\n",
       "      <th>BMI</th>\n",
       "      <th>DiabetesPedigreeFunction</th>\n",
       "      <th>Age</th>\n",
       "      <th>Outcome</th>\n",
       "    </tr>\n",
       "  </thead>\n",
       "  <tbody>\n",
       "    <tr>\n",
       "      <th>2</th>\n",
       "      <td>8</td>\n",
       "      <td>183</td>\n",
       "      <td>64</td>\n",
       "      <td>0</td>\n",
       "      <td>0</td>\n",
       "      <td>23.3</td>\n",
       "      <td>0.672</td>\n",
       "      <td>32</td>\n",
       "      <td>1</td>\n",
       "    </tr>\n",
       "    <tr>\n",
       "      <th>5</th>\n",
       "      <td>5</td>\n",
       "      <td>116</td>\n",
       "      <td>74</td>\n",
       "      <td>0</td>\n",
       "      <td>0</td>\n",
       "      <td>25.6</td>\n",
       "      <td>0.201</td>\n",
       "      <td>30</td>\n",
       "      <td>0</td>\n",
       "    </tr>\n",
       "    <tr>\n",
       "      <th>7</th>\n",
       "      <td>10</td>\n",
       "      <td>115</td>\n",
       "      <td>0</td>\n",
       "      <td>0</td>\n",
       "      <td>0</td>\n",
       "      <td>35.3</td>\n",
       "      <td>0.134</td>\n",
       "      <td>29</td>\n",
       "      <td>0</td>\n",
       "    </tr>\n",
       "    <tr>\n",
       "      <th>9</th>\n",
       "      <td>8</td>\n",
       "      <td>125</td>\n",
       "      <td>96</td>\n",
       "      <td>0</td>\n",
       "      <td>0</td>\n",
       "      <td>0.0</td>\n",
       "      <td>0.232</td>\n",
       "      <td>54</td>\n",
       "      <td>1</td>\n",
       "    </tr>\n",
       "    <tr>\n",
       "      <th>10</th>\n",
       "      <td>4</td>\n",
       "      <td>110</td>\n",
       "      <td>92</td>\n",
       "      <td>0</td>\n",
       "      <td>0</td>\n",
       "      <td>37.6</td>\n",
       "      <td>0.191</td>\n",
       "      <td>30</td>\n",
       "      <td>0</td>\n",
       "    </tr>\n",
       "  </tbody>\n",
       "</table>\n",
       "</div>"
      ],
      "text/plain": [
       "    Pregnancies  Glucose  BloodPressure  SkinThickness  Insulin   BMI  \\\n",
       "2             8      183             64              0        0  23.3   \n",
       "5             5      116             74              0        0  25.6   \n",
       "7            10      115              0              0        0  35.3   \n",
       "9             8      125             96              0        0   0.0   \n",
       "10            4      110             92              0        0  37.6   \n",
       "\n",
       "    DiabetesPedigreeFunction  Age  Outcome  \n",
       "2                      0.672   32        1  \n",
       "5                      0.201   30        0  \n",
       "7                      0.134   29        0  \n",
       "9                      0.232   54        1  \n",
       "10                     0.191   30        0  "
      ]
     },
     "execution_count": 190,
     "metadata": {},
     "output_type": "execute_result"
    }
   ],
   "source": [
    "#Looking at SkinThickness\n",
    "data.loc[data.SkinThickness==0, :].iloc[0:5, :]"
   ]
  },
  {
   "cell_type": "code",
   "execution_count": 191,
   "metadata": {},
   "outputs": [
    {
     "data": {
      "image/png": "[encoded data removed]",
      "text/plain": [
       "<Figure size 504x504 with 1 Axes>"
      ]
     },
     "metadata": {},
     "output_type": "display_data"
    }
   ],
   "source": [
    "#SkinThickness Boxplot\n",
    "\n",
    "plt.figure(figsize=(7,7,))\n",
    "\n",
    "ax = sns.boxplot(x='SkinThickness', data=data[data.SkinThickness!=0])\n",
    "\n",
    "plt.title(\"SkinThickness\")\n",
    "\n",
    "plt.show()"
   ]
  },
  {
   "cell_type": "code",
   "execution_count": 192,
   "metadata": {},
   "outputs": [
    {
     "data": {
      "text/html": [
       "<div>\n",
       "<style scoped>\n",
       "    .dataframe tbody tr th:only-of-type {\n",
       "        vertical-align: middle;\n",
       "    }\n",
       "\n",
       "    .dataframe tbody tr th {\n",
       "        vertical-align: top;\n",
       "    }\n",
       "\n",
       "    .dataframe thead th {\n",
       "        text-align: right;\n",
       "    }\n",
       "</style>\n",
       "<table border=\"1\" class=\"dataframe\">\n",
       "  <thead>\n",
       "    <tr style=\"text-align: right;\">\n",
       "      <th></th>\n",
       "      <th>Pregnancies</th>\n",
       "      <th>Glucose</th>\n",
       "      <th>BloodPressure</th>\n",
       "      <th>SkinThickness</th>\n",
       "      <th>Insulin</th>\n",
       "      <th>BMI</th>\n",
       "      <th>DiabetesPedigreeFunction</th>\n",
       "      <th>Age</th>\n",
       "      <th>Outcome</th>\n",
       "    </tr>\n",
       "  </thead>\n",
       "  <tbody>\n",
       "    <tr>\n",
       "      <th>9</th>\n",
       "      <td>8</td>\n",
       "      <td>125</td>\n",
       "      <td>96</td>\n",
       "      <td>0</td>\n",
       "      <td>0</td>\n",
       "      <td>0.0</td>\n",
       "      <td>0.232</td>\n",
       "      <td>54</td>\n",
       "      <td>1</td>\n",
       "    </tr>\n",
       "    <tr>\n",
       "      <th>49</th>\n",
       "      <td>7</td>\n",
       "      <td>105</td>\n",
       "      <td>0</td>\n",
       "      <td>0</td>\n",
       "      <td>0</td>\n",
       "      <td>0.0</td>\n",
       "      <td>0.305</td>\n",
       "      <td>24</td>\n",
       "      <td>0</td>\n",
       "    </tr>\n",
       "    <tr>\n",
       "      <th>60</th>\n",
       "      <td>2</td>\n",
       "      <td>84</td>\n",
       "      <td>0</td>\n",
       "      <td>0</td>\n",
       "      <td>0</td>\n",
       "      <td>0.0</td>\n",
       "      <td>0.304</td>\n",
       "      <td>21</td>\n",
       "      <td>0</td>\n",
       "    </tr>\n",
       "    <tr>\n",
       "      <th>81</th>\n",
       "      <td>2</td>\n",
       "      <td>74</td>\n",
       "      <td>0</td>\n",
       "      <td>0</td>\n",
       "      <td>0</td>\n",
       "      <td>0.0</td>\n",
       "      <td>0.102</td>\n",
       "      <td>22</td>\n",
       "      <td>0</td>\n",
       "    </tr>\n",
       "    <tr>\n",
       "      <th>145</th>\n",
       "      <td>0</td>\n",
       "      <td>102</td>\n",
       "      <td>75</td>\n",
       "      <td>23</td>\n",
       "      <td>0</td>\n",
       "      <td>0.0</td>\n",
       "      <td>0.572</td>\n",
       "      <td>21</td>\n",
       "      <td>0</td>\n",
       "    </tr>\n",
       "  </tbody>\n",
       "</table>\n",
       "</div>"
      ],
      "text/plain": [
       "     Pregnancies  Glucose  BloodPressure  SkinThickness  Insulin  BMI  \\\n",
       "9              8      125             96              0        0  0.0   \n",
       "49             7      105              0              0        0  0.0   \n",
       "60             2       84              0              0        0  0.0   \n",
       "81             2       74              0              0        0  0.0   \n",
       "145            0      102             75             23        0  0.0   \n",
       "\n",
       "     DiabetesPedigreeFunction  Age  Outcome  \n",
       "9                       0.232   54        1  \n",
       "49                      0.305   24        0  \n",
       "60                      0.304   21        0  \n",
       "81                      0.102   22        0  \n",
       "145                     0.572   21        0  "
      ]
     },
     "execution_count": 192,
     "metadata": {},
     "output_type": "execute_result"
    }
   ],
   "source": [
    "#Looking at BMI\n",
    "data.loc[data.BMI==0, :].iloc[0:5, :]"
   ]
  },
  {
   "cell_type": "code",
   "execution_count": 193,
   "metadata": {},
   "outputs": [
    {
     "data": {
      "image/png": "[encoded data removed]",
      "text/plain": [
       "<Figure size 504x504 with 1 Axes>"
      ]
     },
     "metadata": {},
     "output_type": "display_data"
    }
   ],
   "source": [
    "#BMI Boxplot\n",
    "\n",
    "plt.figure(figsize=(7,7,))\n",
    "\n",
    "ax = sns.boxplot(x='BMI', data=data[data.BMI!=0])\n",
    "\n",
    "plt.title(\"BMI Boxplot\")\n",
    "\n",
    "plt.show()"
   ]
  },
  {
   "cell_type": "markdown",
   "metadata": {},
   "source": [
    "From the boxplots above, we can see that there are a large number of outliers for the Insulin variable. Thus, a more robust approach would be to fill the null Insulin datapoints with the median of the Insulin values. For the rest of the variables, we will proceed with filling the null values with the mean."
   ]
  },
  {
   "cell_type": "markdown",
   "metadata": {},
   "source": [
    "######################################################Data Cleaning############################################################"
   ]
  },
  {
   "cell_type": "code",
   "execution_count": 194,
   "metadata": {},
   "outputs": [],
   "source": [
    "#Calculating the mean of Glucose (excluding nulls)\n",
    "Glucose_mean = data.loc[data.Glucose!=0, 'Glucose'].mean()\n",
    "#Create a new column which replaces null values with the mean\n",
    "data['new_Glucose'] = np.where(data.Glucose == 0, Glucose_mean, data.Glucose)"
   ]
  },
  {
   "cell_type": "code",
   "execution_count": 195,
   "metadata": {},
   "outputs": [],
   "source": [
    "#Calculating the mean of BMI (excluding nulls)\n",
    "BMI_mean = data.loc[data.BMI!=0, 'BMI'].mean()\n",
    "#Create a new column which replaces null values with the mean\n",
    "data['new_BMI'] = np.where(data.BMI == 0, BMI_mean, data.BMI)"
   ]
  },
  {
   "cell_type": "code",
   "execution_count": 196,
   "metadata": {},
   "outputs": [],
   "source": [
    "#Calculating the mean of Skin Thickness (excluding nulls)\n",
    "SkinThickness_mean = data.loc[data.SkinThickness!=0, 'SkinThickness'].mean()\n",
    "#Create a new column which replaces null values with the mean\n",
    "data['new_SkinThickness'] = np.where(data.SkinThickness == 0, SkinThickness_mean, data.SkinThickness)"
   ]
  },
  {
   "cell_type": "code",
   "execution_count": 197,
   "metadata": {},
   "outputs": [],
   "source": [
    "#Calculating the median of Insulin\n",
    "Insulin_median = data.loc[data.Insulin!=0, 'Insulin'].median()\n",
    "#Create a new column which replaces null values with the median\n",
    "data['new_Insulin'] = np.where(data.Insulin == 0, Insulin_median, data.Insulin)"
   ]
  },
  {
   "cell_type": "code",
   "execution_count": 198,
   "metadata": {},
   "outputs": [
    {
     "data": {
      "text/html": [
       "<div>\n",
       "<style scoped>\n",
       "    .dataframe tbody tr th:only-of-type {\n",
       "        vertical-align: middle;\n",
       "    }\n",
       "\n",
       "    .dataframe tbody tr th {\n",
       "        vertical-align: top;\n",
       "    }\n",
       "\n",
       "    .dataframe thead th {\n",
       "        text-align: right;\n",
       "    }\n",
       "</style>\n",
       "<table border=\"1\" class=\"dataframe\">\n",
       "  <thead>\n",
       "    <tr style=\"text-align: right;\">\n",
       "      <th></th>\n",
       "      <th>Pregnancies</th>\n",
       "      <th>Glucose</th>\n",
       "      <th>BloodPressure</th>\n",
       "      <th>SkinThickness</th>\n",
       "      <th>Insulin</th>\n",
       "      <th>BMI</th>\n",
       "      <th>DiabetesPedigreeFunction</th>\n",
       "      <th>Age</th>\n",
       "      <th>Outcome</th>\n",
       "      <th>new_Glucose</th>\n",
       "      <th>new_BMI</th>\n",
       "      <th>new_SkinThickness</th>\n",
       "      <th>new_Insulin</th>\n",
       "    </tr>\n",
       "  </thead>\n",
       "  <tbody>\n",
       "    <tr>\n",
       "      <th>0</th>\n",
       "      <td>6</td>\n",
       "      <td>148</td>\n",
       "      <td>72</td>\n",
       "      <td>35</td>\n",
       "      <td>0</td>\n",
       "      <td>33.6</td>\n",
       "      <td>0.627</td>\n",
       "      <td>50</td>\n",
       "      <td>1</td>\n",
       "      <td>148.0</td>\n",
       "      <td>33.6</td>\n",
       "      <td>35.00000</td>\n",
       "      <td>125.0</td>\n",
       "    </tr>\n",
       "    <tr>\n",
       "      <th>1</th>\n",
       "      <td>1</td>\n",
       "      <td>85</td>\n",
       "      <td>66</td>\n",
       "      <td>29</td>\n",
       "      <td>0</td>\n",
       "      <td>26.6</td>\n",
       "      <td>0.351</td>\n",
       "      <td>31</td>\n",
       "      <td>0</td>\n",
       "      <td>85.0</td>\n",
       "      <td>26.6</td>\n",
       "      <td>29.00000</td>\n",
       "      <td>125.0</td>\n",
       "    </tr>\n",
       "    <tr>\n",
       "      <th>2</th>\n",
       "      <td>8</td>\n",
       "      <td>183</td>\n",
       "      <td>64</td>\n",
       "      <td>0</td>\n",
       "      <td>0</td>\n",
       "      <td>23.3</td>\n",
       "      <td>0.672</td>\n",
       "      <td>32</td>\n",
       "      <td>1</td>\n",
       "      <td>183.0</td>\n",
       "      <td>23.3</td>\n",
       "      <td>29.15342</td>\n",
       "      <td>125.0</td>\n",
       "    </tr>\n",
       "    <tr>\n",
       "      <th>3</th>\n",
       "      <td>1</td>\n",
       "      <td>89</td>\n",
       "      <td>66</td>\n",
       "      <td>23</td>\n",
       "      <td>94</td>\n",
       "      <td>28.1</td>\n",
       "      <td>0.167</td>\n",
       "      <td>21</td>\n",
       "      <td>0</td>\n",
       "      <td>89.0</td>\n",
       "      <td>28.1</td>\n",
       "      <td>23.00000</td>\n",
       "      <td>94.0</td>\n",
       "    </tr>\n",
       "    <tr>\n",
       "      <th>4</th>\n",
       "      <td>0</td>\n",
       "      <td>137</td>\n",
       "      <td>40</td>\n",
       "      <td>35</td>\n",
       "      <td>168</td>\n",
       "      <td>43.1</td>\n",
       "      <td>2.288</td>\n",
       "      <td>33</td>\n",
       "      <td>1</td>\n",
       "      <td>137.0</td>\n",
       "      <td>43.1</td>\n",
       "      <td>35.00000</td>\n",
       "      <td>168.0</td>\n",
       "    </tr>\n",
       "  </tbody>\n",
       "</table>\n",
       "</div>"
      ],
      "text/plain": [
       "   Pregnancies  Glucose  BloodPressure  SkinThickness  Insulin   BMI  \\\n",
       "0            6      148             72             35        0  33.6   \n",
       "1            1       85             66             29        0  26.6   \n",
       "2            8      183             64              0        0  23.3   \n",
       "3            1       89             66             23       94  28.1   \n",
       "4            0      137             40             35      168  43.1   \n",
       "\n",
       "   DiabetesPedigreeFunction  Age  Outcome  new_Glucose  new_BMI  \\\n",
       "0                     0.627   50        1        148.0     33.6   \n",
       "1                     0.351   31        0         85.0     26.6   \n",
       "2                     0.672   32        1        183.0     23.3   \n",
       "3                     0.167   21        0         89.0     28.1   \n",
       "4                     2.288   33        1        137.0     43.1   \n",
       "\n",
       "   new_SkinThickness  new_Insulin  \n",
       "0           35.00000        125.0  \n",
       "1           29.00000        125.0  \n",
       "2           29.15342        125.0  \n",
       "3           23.00000         94.0  \n",
       "4           35.00000        168.0  "
      ]
     },
     "execution_count": 198,
     "metadata": {},
     "output_type": "execute_result"
    }
   ],
   "source": [
    "#Sanity Check\n",
    "data.head()"
   ]
  },
  {
   "cell_type": "code",
   "execution_count": 199,
   "metadata": {},
   "outputs": [],
   "source": [
    "#Make a new dataset with desirable variables\n",
    "data_final = data.iloc[:, [0,2,6,7,8,9,10,11,12]]"
   ]
  },
  {
   "cell_type": "code",
   "execution_count": 200,
   "metadata": {},
   "outputs": [
    {
     "data": {
      "text/html": [
       "<div>\n",
       "<style scoped>\n",
       "    .dataframe tbody tr th:only-of-type {\n",
       "        vertical-align: middle;\n",
       "    }\n",
       "\n",
       "    .dataframe tbody tr th {\n",
       "        vertical-align: top;\n",
       "    }\n",
       "\n",
       "    .dataframe thead th {\n",
       "        text-align: right;\n",
       "    }\n",
       "</style>\n",
       "<table border=\"1\" class=\"dataframe\">\n",
       "  <thead>\n",
       "    <tr style=\"text-align: right;\">\n",
       "      <th></th>\n",
       "      <th>Pregnancies</th>\n",
       "      <th>BloodPressure</th>\n",
       "      <th>DiabetesPedigreeFunction</th>\n",
       "      <th>Age</th>\n",
       "      <th>Outcome</th>\n",
       "      <th>new_Glucose</th>\n",
       "      <th>new_BMI</th>\n",
       "      <th>new_SkinThickness</th>\n",
       "      <th>new_Insulin</th>\n",
       "    </tr>\n",
       "  </thead>\n",
       "  <tbody>\n",
       "    <tr>\n",
       "      <th>0</th>\n",
       "      <td>6</td>\n",
       "      <td>72</td>\n",
       "      <td>0.627</td>\n",
       "      <td>50</td>\n",
       "      <td>1</td>\n",
       "      <td>148.0</td>\n",
       "      <td>33.6</td>\n",
       "      <td>35.00000</td>\n",
       "      <td>125.0</td>\n",
       "    </tr>\n",
       "    <tr>\n",
       "      <th>1</th>\n",
       "      <td>1</td>\n",
       "      <td>66</td>\n",
       "      <td>0.351</td>\n",
       "      <td>31</td>\n",
       "      <td>0</td>\n",
       "      <td>85.0</td>\n",
       "      <td>26.6</td>\n",
       "      <td>29.00000</td>\n",
       "      <td>125.0</td>\n",
       "    </tr>\n",
       "    <tr>\n",
       "      <th>2</th>\n",
       "      <td>8</td>\n",
       "      <td>64</td>\n",
       "      <td>0.672</td>\n",
       "      <td>32</td>\n",
       "      <td>1</td>\n",
       "      <td>183.0</td>\n",
       "      <td>23.3</td>\n",
       "      <td>29.15342</td>\n",
       "      <td>125.0</td>\n",
       "    </tr>\n",
       "    <tr>\n",
       "      <th>3</th>\n",
       "      <td>1</td>\n",
       "      <td>66</td>\n",
       "      <td>0.167</td>\n",
       "      <td>21</td>\n",
       "      <td>0</td>\n",
       "      <td>89.0</td>\n",
       "      <td>28.1</td>\n",
       "      <td>23.00000</td>\n",
       "      <td>94.0</td>\n",
       "    </tr>\n",
       "    <tr>\n",
       "      <th>4</th>\n",
       "      <td>0</td>\n",
       "      <td>40</td>\n",
       "      <td>2.288</td>\n",
       "      <td>33</td>\n",
       "      <td>1</td>\n",
       "      <td>137.0</td>\n",
       "      <td>43.1</td>\n",
       "      <td>35.00000</td>\n",
       "      <td>168.0</td>\n",
       "    </tr>\n",
       "  </tbody>\n",
       "</table>\n",
       "</div>"
      ],
      "text/plain": [
       "   Pregnancies  BloodPressure  DiabetesPedigreeFunction  Age  Outcome  \\\n",
       "0            6             72                     0.627   50        1   \n",
       "1            1             66                     0.351   31        0   \n",
       "2            8             64                     0.672   32        1   \n",
       "3            1             66                     0.167   21        0   \n",
       "4            0             40                     2.288   33        1   \n",
       "\n",
       "   new_Glucose  new_BMI  new_SkinThickness  new_Insulin  \n",
       "0        148.0     33.6           35.00000        125.0  \n",
       "1         85.0     26.6           29.00000        125.0  \n",
       "2        183.0     23.3           29.15342        125.0  \n",
       "3         89.0     28.1           23.00000         94.0  \n",
       "4        137.0     43.1           35.00000        168.0  "
      ]
     },
     "execution_count": 200,
     "metadata": {},
     "output_type": "execute_result"
    }
   ],
   "source": [
    "#Sanity Check\n",
    "data_final.head()"
   ]
  },
  {
   "cell_type": "code",
   "execution_count": 201,
   "metadata": {},
   "outputs": [],
   "source": [
    "#Prepare Datasets for Algorithm\n",
    "#Seperate Final Dataset into variables and outcomes\n",
    "X = data_final.drop(axis = 1, columns='Outcome')\n",
    "y = data_final['Outcome']\n",
    "\n",
    "#Split into training and test sets (stratify on y to ensure equal number of classes)\n",
    "X_train, X_test, y_train, y_test = train_test_split(X, y, test_size=0.2, random_state=0, stratify = y)"
   ]
  },
  {
   "cell_type": "code",
   "execution_count": 202,
   "metadata": {},
   "outputs": [
    {
     "name": "stdout",
     "output_type": "stream",
     "text": [
      "X_train shape:  (614, 8)\n",
      "y_train shape:  (614,)\n",
      "X_test shape:  (154, 8)\n",
      "y_test shape:  (154,)\n"
     ]
    }
   ],
   "source": [
    "#Sanity Check\n",
    "print(\"X_train shape: \", X_train.shape)\n",
    "print(\"y_train shape: \", y_train.shape)\n",
    "print(\"X_test shape: \", X_test.shape)\n",
    "print(\"y_test shape: \", y_test.shape)"
   ]
  },
  {
   "cell_type": "code",
   "execution_count": 203,
   "metadata": {},
   "outputs": [],
   "source": [
    "#Load Packages for Scaling, Pipeline and GridsearchCV\n",
    "from sklearn.preprocessing import StandardScaler\n",
    "from sklearn.pipeline import Pipeline \n",
    "from sklearn.model_selection import GridSearchCV"
   ]
  },
  {
   "cell_type": "markdown",
   "metadata": {},
   "source": [
    "####################################################Linear Models###############################################################"
   ]
  },
  {
   "cell_type": "markdown",
   "metadata": {},
   "source": [
    "For our linear model, logistic regression is used due to the nature of the output being categorical instead of continuous. Logistic regression is the ideal method for categorising data for linear regression algorithns."
   ]
  },
  {
   "cell_type": "code",
   "execution_count": 204,
   "metadata": {},
   "outputs": [],
   "source": [
    "#Logistic Regression Algorithm\n",
    "\n",
    "#Setting up pipeline for GridsearchCV\n",
    "#Scaling\n",
    "Scaler = StandardScaler()\n",
    "#Setting up a logistic Regression algorithm\n",
    "Logreg = LogisticRegression()\n",
    "#Pipeline\n",
    "Pipe = Pipeline([('Transform', Scaler), ('Estimator', Logreg)])\n",
    "#Define Parameter Grid for parameters of interest (C, Class weight & Penalty)\n",
    "Param = {'Estimator__C': [20, 30, 40, 50],\n",
    "            'Estimator__class_weight': [{0:0.4, 1:0.6}, {0:0.35, 1:0.65}, {0:0.3, 1:0.7}],\n",
    "            'Estimator__penalty': ['l1', 'l2']}\n",
    "#Initialise GridSearchCV with 5 CrossValidations\n",
    "gridsearch = GridSearchCV(Pipe, param_grid = Param, cv = 5)"
   ]
  },
  {
   "cell_type": "code",
   "execution_count": 205,
   "metadata": {},
   "outputs": [
    {
     "data": {
      "text/plain": [
       "GridSearchCV(cv=5, error_score='raise',\n",
       "       estimator=Pipeline(memory=None,\n",
       "     steps=[('Transform', StandardScaler(copy=True, with_mean=True, with_std=True)), ('Estimator', LogisticRegression(C=1.0, class_weight=None, dual=False, fit_intercept=True,\n",
       "          intercept_scaling=1, max_iter=100, multi_class='ovr', n_jobs=1,\n",
       "          penalty='l2', random_state=None, solver='liblinear', tol=0.0001,\n",
       "          verbose=0, warm_start=False))]),\n",
       "       fit_params=None, iid=True, n_jobs=1,\n",
       "       param_grid={'Estimator__C': [20, 30, 40, 50], 'Estimator__class_weight': [{0: 0.4, 1: 0.6}, {0: 0.35, 1: 0.65}, {0: 0.3, 1: 0.7}], 'Estimator__penalty': ['l1', 'l2']},\n",
       "       pre_dispatch='2*n_jobs', refit=True, return_train_score='warn',\n",
       "       scoring=None, verbose=0)"
      ]
     },
     "execution_count": 205,
     "metadata": {},
     "output_type": "execute_result"
    }
   ],
   "source": [
    "gridsearch.fit(X_train, y_train)"
   ]
  },
  {
   "cell_type": "code",
   "execution_count": 206,
   "metadata": {},
   "outputs": [
    {
     "name": "stdout",
     "output_type": "stream",
     "text": [
      "Best parameters: {'Estimator__C': 30, 'Estimator__class_weight': {0: 0.4, 1: 0.6}, 'Estimator__penalty': 'l1'}\n",
      "Best cross-validation accuracy score: 0.7622\n"
     ]
    }
   ],
   "source": [
    "#Best Parameters and Corresponding Score\n",
    "print(\"Best parameters: {}\".format(gridsearch.best_params_))\n",
    "print(\"Best cross-validation accuracy score: {:.4f}\".format(gridsearch.best_score_))"
   ]
  },
  {
   "cell_type": "code",
   "execution_count": 207,
   "metadata": {},
   "outputs": [
    {
     "name": "stdout",
     "output_type": "stream",
     "text": [
      "Accuracy on test set: 0.7857142857142857\n"
     ]
    }
   ],
   "source": [
    "#Accurcy on test set\n",
    "print(\"Accuracy on test set: {}\".format(gridsearch.score(X_test,y_test)))"
   ]
  },
  {
   "cell_type": "code",
   "execution_count": 208,
   "metadata": {},
   "outputs": [
    {
     "data": {
      "text/plain": [
       "array([[82, 18],\n",
       "       [15, 39]], dtype=int64)"
      ]
     },
     "execution_count": 208,
     "metadata": {},
     "output_type": "execute_result"
    }
   ],
   "source": [
    "#Model Evaluation\n",
    "#Generate predictions on test set for confusion matrix\n",
    "y_pred = gridsearch.predict(X_test)\n",
    "#Confusion Matrix\n",
    "from sklearn.metrics import confusion_matrix\n",
    "confusion_matrix(y_true = y_test , y_pred = y_pred, labels=None, sample_weight=None)"
   ]
  },
  {
   "cell_type": "code",
   "execution_count": 209,
   "metadata": {},
   "outputs": [
    {
     "name": "stdout",
     "output_type": "stream",
     "text": [
      "             precision    recall  f1-score   support\n",
      "\n",
      "          0       0.85      0.82      0.83       100\n",
      "          1       0.68      0.72      0.70        54\n",
      "\n",
      "avg / total       0.79      0.79      0.79       154\n",
      "\n"
     ]
    }
   ],
   "source": [
    "from sklearn.metrics import classification_report\n",
    "print(classification_report(y_test, y_pred))"
   ]
  },
  {
   "cell_type": "markdown",
   "metadata": {},
   "source": [
    "#####################################################Tree Based Model###########################################################"
   ]
  },
  {
   "cell_type": "code",
   "execution_count": 210,
   "metadata": {},
   "outputs": [
    {
     "name": "stdout",
     "output_type": "stream",
     "text": [
      "      Iter       Train Loss   Remaining Time \n",
      "         1           1.2275            1.19s\n",
      "         2           1.1746            0.83s\n",
      "         3           1.1300            0.65s\n",
      "         4           1.0913            0.58s\n",
      "         5           1.0585            0.70s\n",
      "         6           1.0275            0.64s\n",
      "         7           1.0019            0.58s\n",
      "         8           0.9795            0.56s\n",
      "         9           0.9593            0.54s\n",
      "        10           0.9393            0.50s\n",
      "        20           0.8131            0.28s\n",
      "        30           0.7391            0.20s\n",
      "        40           0.6910            0.15s\n",
      "        50           0.6486            0.11s\n",
      "        60           0.6105            0.08s\n",
      "        70           0.5772            0.06s\n",
      "        80           0.5421            0.04s\n",
      "        90           0.5140            0.02s\n",
      "       100           0.4874            0.00s\n"
     ]
    },
    {
     "data": {
      "text/plain": [
       "GradientBoostingClassifier(criterion='friedman_mse', init=None,\n",
       "              learning_rate=0.1, loss='deviance', max_depth=3,\n",
       "              max_features=None, max_leaf_nodes=None,\n",
       "              min_impurity_decrease=0.0, min_impurity_split=None,\n",
       "              min_samples_leaf=1, min_samples_split=2,\n",
       "              min_weight_fraction_leaf=0.0, n_estimators=100,\n",
       "              presort='auto', random_state=0, subsample=1.0, verbose=1,\n",
       "              warm_start=False)"
      ]
     },
     "execution_count": 210,
     "metadata": {},
     "output_type": "execute_result"
    }
   ],
   "source": [
    "#Gradient Boosted Tree Algorithm: We choose Gradient Boosted Trees as the model is generally able to perform better by learning from previous mistakes and building a better model overall, albeit it relies heavily on parameter tuning.\n",
    "#Another important reason why we choose Gradient Boosted Trees is due to the nature of our dataset. We have an extremely imbalanced dataset which encourages the use of Gradient Boosted algorithms since it learns from previously incorrect data points such that it deals with problems that inherently come with imbalanced data (stops the algorithm from assigning all points to the class with the higher number of outcomes). \n",
    "from sklearn.ensemble import GradientBoostingClassifier\n",
    "#Doing a simple fit, fixing the random_state for reproducibility\n",
    "estimator = GradientBoostingClassifier(random_state = 0, verbose = 1)\n",
    "estimator.fit(X_train, y_train)"
   ]
  },
  {
   "cell_type": "code",
   "execution_count": 211,
   "metadata": {},
   "outputs": [
    {
     "name": "stdout",
     "output_type": "stream",
     "text": [
      "Accuracy on training set: 0.925\n"
     ]
    }
   ],
   "source": [
    "print(\"Accuracy on training set: {:.3f}\".format(estimator.score(X_train, y_train)))"
   ]
  },
  {
   "cell_type": "code",
   "execution_count": 212,
   "metadata": {},
   "outputs": [
    {
     "name": "stdout",
     "output_type": "stream",
     "text": [
      "Accuracy on test set: 0.812\n"
     ]
    }
   ],
   "source": [
    "print(\"Accuracy on test set: {:.3f}\".format(estimator.score(X_test, y_test)))"
   ]
  },
  {
   "cell_type": "markdown",
   "metadata": {},
   "source": [
    "We can see that there is a severe case of overfitting. To reduce this problem, we will introduce additional parameters such as n_estimators and tune these parameters to find the optimal fit."
   ]
  },
  {
   "cell_type": "code",
   "execution_count": 213,
   "metadata": {},
   "outputs": [],
   "source": [
    "#Hypertuning parameters for Boosted Tree Alogrithm\n",
    "#Note that Boosted Trees don't require scaling of data as it won't affect the outcomes\n",
    "#Create Parameter Grid for Boosted Trees\n",
    "param_grid = {'max_depth': [1, 2, 3, 4, 5, 6, 7, 8],\n",
    "                'n_estimators': [50, 75, 100, 200],\n",
    "                'learning_rate': [0.01, 0.1, 0.25 , 0.5, 0.75, 1]}"
   ]
  },
  {
   "cell_type": "code",
   "execution_count": 214,
   "metadata": {},
   "outputs": [
    {
     "name": "stdout",
     "output_type": "stream",
     "text": [
      "      Iter       Train Loss   Remaining Time \n",
      "         1           1.2197            0.07s\n",
      "         2           1.1752            0.07s\n",
      "         3           1.1353            0.10s\n",
      "         4           1.1006            0.09s\n",
      "         5           1.0704            0.08s\n",
      "         6           1.0472            0.09s\n",
      "         7           1.0274            0.09s\n",
      "         8           1.0091            0.09s\n",
      "         9           0.9955            0.10s\n",
      "        10           0.9846            0.09s\n",
      "        20           0.9066            0.05s\n",
      "        30           0.8682            0.04s\n",
      "        40           0.8448            0.03s\n",
      "        50           0.8250            0.02s\n",
      "        60           0.8115            0.01s\n",
      "        70           0.7994            0.00s\n"
     ]
    },
    {
     "data": {
      "text/plain": [
       "GridSearchCV(cv=5, error_score='raise',\n",
       "       estimator=GradientBoostingClassifier(criterion='friedman_mse', init=None,\n",
       "              learning_rate=0.1, loss='deviance', max_depth=3,\n",
       "              max_features=None, max_leaf_nodes=None,\n",
       "              min_impurity_decrease=0.0, min_impurity_split=None,\n",
       "              min_samples_leaf=1, min_samples_split=2,\n",
       "              min_weight_fraction_leaf=0.0, n_estimators=100,\n",
       "              presort='auto', random_state=0, subsample=1.0, verbose=1,\n",
       "              warm_start=False),\n",
       "       fit_params=None, iid=True, n_jobs=-1,\n",
       "       param_grid={'max_depth': [1, 2, 3, 4, 5, 6, 7, 8], 'n_estimators': [50, 75, 100, 200], 'learning_rate': [0.01, 0.1, 0.25, 0.5, 0.75, 1]},\n",
       "       pre_dispatch='2*n_jobs', refit=True, return_train_score='warn',\n",
       "       scoring=None, verbose=0)"
      ]
     },
     "execution_count": 214,
     "metadata": {},
     "output_type": "execute_result"
    }
   ],
   "source": [
    "#Tuning Process\n",
    "gridsearch = GridSearchCV(estimator, param_grid, cv=5, n_jobs=-1)\n",
    "gridsearch.fit(X_train, y_train)"
   ]
  },
  {
   "cell_type": "code",
   "execution_count": 215,
   "metadata": {},
   "outputs": [
    {
     "name": "stdout",
     "output_type": "stream",
     "text": [
      "Best parameters: {'learning_rate': 0.25, 'max_depth': 1, 'n_estimators': 75}\n",
      "Best cross-validation accuracy score: 0.7622\n"
     ]
    }
   ],
   "source": [
    "#Best Parameters and Corresponding Score\n",
    "print(\"Best parameters: {}\".format(gridsearch.best_params_))\n",
    "print(\"Best cross-validation accuracy score: {:.4f}\".format(gridsearch.best_score_))"
   ]
  },
  {
   "cell_type": "code",
   "execution_count": 216,
   "metadata": {},
   "outputs": [
    {
     "name": "stdout",
     "output_type": "stream",
     "text": [
      "Accuracy on test set: 0.792\n"
     ]
    }
   ],
   "source": [
    "print(\"Accuracy on test set: {:.3f}\".format(gridsearch.score(X_test, y_test)))"
   ]
  },
  {
   "cell_type": "code",
   "execution_count": 217,
   "metadata": {},
   "outputs": [
    {
     "name": "stdout",
     "output_type": "stream",
     "text": [
      "Feature importances:\n",
      "[0.08521602 0.0964706  0.22082475 0.10756281 0.14440829 0.17118445\n",
      " 0.06736121 0.10697187]\n"
     ]
    },
    {
     "data": {
      "image/png": "[encoded data removed]",
      "text/plain": [
       "<Figure size 432x288 with 1 Axes>"
      ]
     },
     "metadata": {},
     "output_type": "display_data"
    }
   ],
   "source": [
    "#Looking at the important features\n",
    "\n",
    "#Rebuild the tree with the best parameters (Learning rate = 0.25, max_depth = 1, n_estimators = 75)\n",
    "\n",
    "estimator = GradientBoostingClassifier(random_state = 0, learning_rate = 0.25, n_estimators = 75)\n",
    "estimator.fit(X_train, y_train)\n",
    "\n",
    "print(\"Feature importances:\\n{}\".format(estimator.feature_importances_))\n",
    "\n",
    "#Defining a function to output features and its importance\n",
    "def plot_feature_importances(model):\n",
    "    n_features = X.shape[1]\n",
    "    plt.barh(range(n_features), model.feature_importances_, align='center') \n",
    "    plt.yticks(np.arange(n_features), X.columns) \n",
    "    plt.xlabel(\"Feature importance\")\n",
    "    plt.ylabel(\"Feature\")\n",
    "plot_feature_importances(estimator)\n"
   ]
  },
  {
   "cell_type": "markdown",
   "metadata": {},
   "source": [
    "Diabetes Pedigree Function seems to be the most important feature in this model, which is intuitive due to the nature of the feature being an indicator of Diabetes based on family traits."
   ]
  },
  {
   "cell_type": "code",
   "execution_count": 218,
   "metadata": {},
   "outputs": [
    {
     "name": "stdout",
     "output_type": "stream",
     "text": [
      "Metrics:\n",
      "\n",
      "Confusion matrix:\n",
      "[[89 11]\n",
      " [20 34]]\n",
      "             precision    recall  f1-score   support\n",
      "\n",
      "          0       0.82      0.89      0.85       100\n",
      "          1       0.76      0.63      0.69        54\n",
      "\n",
      "avg / total       0.80      0.80      0.79       154\n",
      "\n",
      "AUC score: 0.843\n"
     ]
    }
   ],
   "source": [
    "#Model Evaluation\n",
    "#Compute Confusion Matrix\n",
    "y_pred = estimator.predict(X_test)\n",
    "Confusion = metrics.confusion_matrix(y_test, y_pred)\n",
    "print(\"Metrics:\\n\")\n",
    "print(\"Confusion matrix:\\n{}\".format(Confusion))\n",
    "#f1score, Recall and Precision\n",
    "from sklearn.metrics import classification_report\n",
    "print(classification_report(y_test, y_pred))\n",
    "#Computing ROC/AUC\n",
    "from sklearn.metrics import roc_auc_score\n",
    "auc_mod = roc_auc_score(y_test, estimator.predict_proba(X_test)[:,1])\n",
    "print(\"AUC score: {:.3f}\".format(auc_mod))"
   ]
  },
  {
   "cell_type": "markdown",
   "metadata": {},
   "source": [
    "#####################################################Support Vector Machine#####################################################"
   ]
  },
  {
   "cell_type": "code",
   "execution_count": 219,
   "metadata": {},
   "outputs": [],
   "source": [
    "#Build a basic SVM Algorithm\n",
    "from sklearn.svm import *\n",
    "scaler = StandardScaler()\n",
    "svm = SVC()"
   ]
  },
  {
   "cell_type": "code",
   "execution_count": 220,
   "metadata": {},
   "outputs": [
    {
     "data": {
      "image/png": "[encoded data removed]",
      "text/plain": [
       "<Figure size 432x288 with 1 Axes>"
      ]
     },
     "metadata": {},
     "output_type": "display_data"
    }
   ],
   "source": [
    "#Preperation before scaling the data\n",
    "plt.plot(X_train.min(axis=0), 'o', label='min')\n",
    "plt.plot(X_train.max(axis=0), '^', label='max')\n",
    "plt.legend(loc=4)\n",
    "plt.xlabel(\"Feature index\")\n",
    "plt.ylabel(\"Feature magnitude\")\n",
    "plt.yscale(\"log\")"
   ]
  },
  {
   "cell_type": "markdown",
   "metadata": {},
   "source": [
    "We can see that the min and max values for each feature are vastly different. Thus, we need to scale the data such that the min/max values of the features are comparable."
   ]
  },
  {
   "cell_type": "code",
   "execution_count": 221,
   "metadata": {},
   "outputs": [
    {
     "name": "stdout",
     "output_type": "stream",
     "text": [
      "\u001b[1m\u001b[4mMinimum for each feature\u001b[0m \n",
      "Pregnancies                 0.0\n",
      "BloodPressure               0.0\n",
      "DiabetesPedigreeFunction    0.0\n",
      "Age                         0.0\n",
      "new_Glucose                 0.0\n",
      "new_BMI                     0.0\n",
      "new_SkinThickness           0.0\n",
      "new_Insulin                 0.0\n",
      "dtype: float64\n",
      "\u001b[1m\u001b[4mMaximum for each feature\u001b[0m \n",
      "Pregnancies                 1.0\n",
      "BloodPressure               1.0\n",
      "DiabetesPedigreeFunction    1.0\n",
      "Age                         1.0\n",
      "new_Glucose                 1.0\n",
      "new_BMI                     1.0\n",
      "new_SkinThickness           1.0\n",
      "new_Insulin                 1.0\n",
      "dtype: float64\n"
     ]
    }
   ],
   "source": [
    "#Scaling the data\n",
    "#Compute min value of training\n",
    "min_value = X_train.min(axis=0)\n",
    "#Compute max-min of training\n",
    "range_value = (X_train-min_value).max(axis=0)\n",
    "#Computing the scaled data for train and test sets\n",
    "X_train_scaled = (X_train - min_value)/range_value\n",
    "X_test_scaled = (X_test - min_value)/range_value\n",
    "#Sanity Check (on test)\n",
    "print(color.BOLD+color.UNDERLINE+\"Minimum for each feature\"+color.END, \"\\n{}\".format(X_train_scaled.min(axis=0)))\n",
    "print(color.BOLD+color.UNDERLINE+\"Maximum for each feature\"+color.END, \"\\n{}\".format(X_train_scaled.max(axis=0)))"
   ]
  },
  {
   "cell_type": "code",
   "execution_count": 222,
   "metadata": {},
   "outputs": [
    {
     "name": "stdout",
     "output_type": "stream",
     "text": [
      "Accuracy on training set: 0.7768729641693811\n"
     ]
    }
   ],
   "source": [
    "#Fit the model\n",
    "svm.fit(X_train_scaled, y_train)\n",
    "#Accuracy Score on training data\n",
    "print(\"Accuracy on training set: {}\".format(svm.score(X_train_scaled, y_train)))"
   ]
  },
  {
   "cell_type": "code",
   "execution_count": 223,
   "metadata": {},
   "outputs": [
    {
     "name": "stdout",
     "output_type": "stream",
     "text": [
      "Accuracy on test set: 0.7727272727272727\n"
     ]
    }
   ],
   "source": [
    "print(\"Accuracy on test set: {}\".format(svm.score(X_test_scaled, y_test)))"
   ]
  },
  {
   "cell_type": "markdown",
   "metadata": {},
   "source": [
    "We can see that the SVM model has slightly overfitted the model on the training set. To resolve this issue, we must tune the C and Gamma parameters which deal with model overfitting and potentially improve the performance of the model."
   ]
  },
  {
   "cell_type": "code",
   "execution_count": 224,
   "metadata": {},
   "outputs": [
    {
     "data": {
      "text/plain": [
       "GridSearchCV(cv=5, error_score='raise',\n",
       "       estimator=Pipeline(memory=None,\n",
       "     steps=[('Transform', MinMaxScaler(copy=True, feature_range=(0, 1))), ('Estimator', SVC(C=1.0, cache_size=200, class_weight=None, coef0=0.0,\n",
       "  decision_function_shape='ovr', degree=3, gamma='auto', kernel='rbf',\n",
       "  max_iter=-1, probability=False, random_state=None, shrinking=True,\n",
       "  tol=0.001, verbose=False))]),\n",
       "       fit_params=None, iid=True, n_jobs=1,\n",
       "       param_grid={'Estimator__C': [90, 100, 110, 120], 'Estimator__class_weight': [{0: 0.4, 1: 0.6}, {0: 0.35, 1: 0.65}, {0: 0.3, 1: 0.7}], 'Estimator__gamma': [0.05, 0.1, 0.15, 0.2]},\n",
       "       pre_dispatch='2*n_jobs', refit=True, return_train_score='warn',\n",
       "       scoring=None, verbose=0)"
      ]
     },
     "execution_count": 224,
     "metadata": {},
     "output_type": "execute_result"
    }
   ],
   "source": [
    "#Hyperparameter Tuning\n",
    "#Set up pipeline\n",
    "from sklearn.preprocessing import *\n",
    "scaler = MinMaxScaler()\n",
    "svm = SVC()\n",
    "#Pipeline\n",
    "Pipe = Pipeline([('Transform', scaler), ('Estimator', svm)])\n",
    "#Define Parameter Grid for parameters of interest (C, Class weight & Penalty)\n",
    "Param = {'Estimator__C': [90, 100, 110, 120],\n",
    "            'Estimator__class_weight': [{0:0.4, 1:0.6}, {0:0.35, 1:0.65}, {0:0.3, 1:0.7}],\n",
    "            'Estimator__gamma': [0.05, 0.1, 0.15, 0.2]}\n",
    "#Initialise GridSearchCV with 5 CrossValidations\n",
    "gridsearch = GridSearchCV(Pipe, param_grid = Param, cv = 5)\n",
    "gridsearch.fit(X_train, y_train)"
   ]
  },
  {
   "cell_type": "code",
   "execution_count": 225,
   "metadata": {},
   "outputs": [
    {
     "name": "stdout",
     "output_type": "stream",
     "text": [
      "Best parameters: {'Estimator__C': 100, 'Estimator__class_weight': {0: 0.4, 1: 0.6}, 'Estimator__gamma': 0.1}\n",
      "Best cross-validation accuracy score: 0.7785\n"
     ]
    }
   ],
   "source": [
    "#Best Parameters and Corresponding Score\n",
    "print(\"Best parameters: {}\".format(gridsearch.best_params_))\n",
    "print(\"Best cross-validation accuracy score: {:.4f}\".format(gridsearch.best_score_))"
   ]
  },
  {
   "cell_type": "code",
   "execution_count": 243,
   "metadata": {},
   "outputs": [
    {
     "name": "stdout",
     "output_type": "stream",
     "text": [
      "Accuracy on test set: 0.7987012987012987\n"
     ]
    }
   ],
   "source": [
    "#Score on test set\n",
    "print(\"Accuracy on test set: {}\".format(gridsearch.score(X_test, y_test)))"
   ]
  },
  {
   "cell_type": "code",
   "execution_count": 227,
   "metadata": {},
   "outputs": [
    {
     "name": "stdout",
     "output_type": "stream",
     "text": [
      "Metrics:\n",
      "\n",
      "Confusion matrix:\n",
      "[[82 18]\n",
      " [13 41]]\n",
      "             precision    recall  f1-score   support\n",
      "\n",
      "          0       0.86      0.82      0.84       100\n",
      "          1       0.69      0.76      0.73        54\n",
      "\n",
      "avg / total       0.80      0.80      0.80       154\n",
      "\n"
     ]
    }
   ],
   "source": [
    "#Model Evaluation\n",
    "#Compute Confusion Matrix\n",
    "y_pred = gridsearch.predict(X_test)\n",
    "Confusion = metrics.confusion_matrix(y_test, y_pred)\n",
    "print(\"Metrics:\\n\")\n",
    "print(\"Confusion matrix:\\n{}\".format(Confusion))\n",
    "#f1score, Recall and Precision\n",
    "from sklearn.metrics import classification_report\n",
    "print(classification_report(y_test, y_pred))"
   ]
  },
  {
   "cell_type": "markdown",
   "metadata": {},
   "source": [
    "######################################################Neural Network Model######################################################"
   ]
  },
  {
   "cell_type": "code",
   "execution_count": 246,
   "metadata": {},
   "outputs": [
    {
     "name": "stdout",
     "output_type": "stream",
     "text": [
      "Epoch 1/5\n",
      "614/614 [==============================] - 87s 141ms/step - loss: 0.6925 - acc: 0.6140\n",
      "Epoch 2/5\n",
      "614/614 [==============================] - 0s 345us/step - loss: 0.6900 - acc: 0.6515\n",
      "Epoch 3/5\n",
      "614/614 [==============================] - 0s 366us/step - loss: 0.6862 - acc: 0.6515\n",
      "Epoch 4/5\n",
      "614/614 [==============================] - 0s 360us/step - loss: 0.6800 - acc: 0.6547\n",
      "Epoch 5/5\n",
      "614/614 [==============================] - 0s 370us/step - loss: 0.6692 - acc: 0.6726\n"
     ]
    },
    {
     "data": {
      "text/plain": [
       "<keras.callbacks.History at 0x3090f13c8>"
      ]
     },
     "execution_count": 246,
     "metadata": {},
     "output_type": "execute_result"
    }
   ],
   "source": [
    "#Building a Neural Network\n",
    "# Write Python Code here:\n",
    "import keras\n",
    "from keras.models import Sequential\n",
    "from keras.layers import Dense, Dropout, Activation\n",
    "\n",
    "#Ensure recomputability\n",
    "from numpy.random import seed\n",
    "seed(0)\n",
    "from tensorflow import set_random_seed\n",
    "set_random_seed(0)\n",
    "\n",
    "#Scale Data\n",
    "sc = StandardScaler()\n",
    "X_train_scaled = sc.fit_transform(X_train)\n",
    "X_test_scaled = sc.transform(X_test)\n",
    "\n",
    "#Create the neural network\n",
    "ann = Sequential()\n",
    "\n",
    "#Add input and 1st hidden layer with a dropout of 20% prob\n",
    "ann.add(Dense(35, activation='relu', kernel_initializer='uniform', input_dim=(8)))\n",
    "ann.add(Dropout(0.2))\n",
    "#2nd hidden layer with a dropout of 20% prob\n",
    "ann.add(Dense(35, activation='relu', kernel_initializer='uniform'))\n",
    "ann.add(Dropout(0.2))\n",
    "#Output layer, sigmoid activation function for binary output (since we are dealing with a classification problem here)\n",
    "ann.add(Dense(1, activation='sigmoid', kernel_initializer='uniform'))\n",
    "\n",
    "#Compile the model\n",
    "ann.compile(optimizer='adam', loss='binary_crossentropy', metrics=['accuracy'])\n",
    "ann.fit(X_train_scaled, y_train, epochs=5, batch_size=100)"
   ]
  },
  {
   "cell_type": "markdown",
   "metadata": {},
   "source": [
    "Number of nodes used was based on a Neural Network design citations link here: http://hagan.okstate.edu/NNDesign.pdf#page=469"
   ]
  },
  {
   "cell_type": "code",
   "execution_count": 247,
   "metadata": {
    "scrolled": true
   },
   "outputs": [
    {
     "name": "stdout",
     "output_type": "stream",
     "text": [
      "Accuracy score:  0.6753246753246753\n"
     ]
    }
   ],
   "source": [
    "#Computing the accuracy of test set\n",
    "from sklearn.metrics import accuracy_score\n",
    "y_pred=ann.predict(X_test_scaled)\n",
    "prediction=[1 if x==True else 0 for [x] in y_pred >= 0.5]\n",
    "print(\"Accuracy score: \", accuracy_score(y_test, prediction))"
   ]
  },
  {
   "cell_type": "markdown",
   "metadata": {},
   "source": [
    "To improve the performance of a neural network, we must tune the hyper parameters"
   ]
  },
  {
   "cell_type": "code",
   "execution_count": 249,
   "metadata": {},
   "outputs": [
    {
     "name": "stdout",
     "output_type": "stream",
     "text": [
      "Epoch 1/5\n",
      "Epoch 2/5\n",
      "Epoch 3/5\n",
      "Epoch 4/5\n",
      "Epoch 5/5\n",
      "Epoch 1/5\n",
      "Epoch 2/5\n",
      "Epoch 3/5\n",
      "Epoch 4/5\n",
      "Epoch 5/5\n",
      "Epoch 1/5\n",
      "Epoch 2/5\n",
      "Epoch 3/5\n",
      "Epoch 4/5\n",
      "Epoch 5/5\n",
      "Epoch 1/5\n",
      "Epoch 2/5\n",
      "Epoch 3/5\n",
      "Epoch 4/5\n",
      "Epoch 5/5\n",
      "Epoch 1/5\n",
      "Epoch 2/5\n",
      "Epoch 3/5\n",
      "Epoch 4/5\n",
      "Epoch 5/5\n",
      "Epoch 1/5\n",
      "Epoch 2/5\n",
      "Epoch 3/5\n",
      "Epoch 4/5\n",
      "Epoch 5/5\n",
      "Epoch 1/5\n",
      "Epoch 2/5\n",
      "Epoch 3/5\n",
      "Epoch 4/5\n",
      "Epoch 5/5\n",
      "Epoch 1/5\n",
      "Epoch 2/5\n",
      "Epoch 3/5\n",
      "Epoch 4/5\n",
      "Epoch 5/5\n",
      "Epoch 1/5\n",
      "Epoch 2/5\n",
      "Epoch 3/5\n",
      "Epoch 4/5\n",
      "Epoch 5/5\n",
      "Epoch 1/5\n",
      "Epoch 2/5\n",
      "Epoch 3/5\n",
      "Epoch 4/5\n",
      "Epoch 5/5\n",
      "Epoch 1/5\n",
      "Epoch 2/5\n",
      "Epoch 3/5\n",
      "Epoch 4/5\n",
      "Epoch 5/5\n",
      "Epoch 1/5\n",
      "Epoch 2/5\n",
      "Epoch 3/5\n",
      "Epoch 4/5\n",
      "Epoch 5/5\n",
      "Epoch 1/5\n",
      "Epoch 2/5\n",
      "Epoch 3/5\n",
      "Epoch 4/5\n",
      "Epoch 5/5\n",
      "Epoch 1/5\n",
      "Epoch 2/5\n",
      "Epoch 3/5\n",
      "Epoch 4/5\n",
      "Epoch 5/5\n",
      "Epoch 1/5\n",
      "Epoch 2/5\n",
      "Epoch 3/5\n",
      "Epoch 4/5\n",
      "Epoch 5/5\n",
      "Epoch 1/5\n",
      "Epoch 2/5\n",
      "Epoch 3/5\n",
      "Epoch 4/5\n",
      "Epoch 5/5\n",
      "Best parameters: {'dropout_rate': 0.1}\n",
      "Best cross-validation score: 0.6629\n",
      "0.662866 (0.041442) with: {'dropout_rate': 0.1}\n",
      "0.653094 (0.027444) with: {'dropout_rate': 0.15}\n",
      "0.654723 (0.024059) with: {'dropout_rate': 0.2}\n"
     ]
    }
   ],
   "source": [
    "#Tuning Hyperparameters\n",
    "from keras.wrappers.scikit_learn import KerasClassifier\n",
    "\n",
    "#Create the model for KerasClassifier\n",
    "def create_model(dropout_rate=0.0):\n",
    "            ann  = Sequential()\n",
    "            ann.add(Dense(35, activation='relu', kernel_initializer='uniform', input_dim=(8)))\n",
    "            ann.add(Dropout(dropout_rate))\n",
    "            ann.add(Dense(35, activation='relu', kernel_initializer='uniform'))\n",
    "            ann.add(Dropout(dropout_rate))\n",
    "            ann.add(Dense(1, activation='sigmoid', kernel_initializer='uniform'))\n",
    "            ann.compile(optimizer='adam', loss='binary_crossentropy', metrics=['accuracy'])\n",
    "            return ann\n",
    "\n",
    "#Setting up the estimator for gridsearchcv\n",
    "model = KerasClassifier(build_fn=create_model, verbose=10)\n",
    "\n",
    "#Defining paramater grid\n",
    "#We'll tune dropout_rate: epochs and batch size are computationally straining to tune\n",
    "param_grid = {'dropout_rate': [0.1, 0.15, 0.20]}\n",
    "\n",
    "#Using CV=5\n",
    "grid_search = GridSearchCV(estimator = model, param_grid = param_grid, cv=5)\n",
    "#Training the model, we use epochs = 5 for computational feasibility\n",
    "grid_search.fit(X_train_scaled, y_train, epochs=5, batch_size=100)\n",
    "print(\"Best parameters: {}\".format(grid_search.best_params_))\n",
    "print(\"Best cross-validation score: {:.4f}\".format(grid_search.best_score_))\n",
    "\n",
    "#Compute mean accuracy scores for each gridsearched parameter\n",
    "means = grid_search.cv_results_['mean_test_score']\n",
    "stds = grid_search.cv_results_['std_test_score']\n",
    "params = grid_search.cv_results_['params']\n",
    "for mean, stdev, param in zip(means, stds, params):\n",
    "    print(\"%f (%f) with: %r\" % (mean, stdev, param))"
   ]
  },
  {
   "cell_type": "code",
   "execution_count": 250,
   "metadata": {},
   "outputs": [
    {
     "name": "stdout",
     "output_type": "stream",
     "text": [
      "Test accuracy score: 0.66\n",
      "Accuracy score:  0.6623376623376623\n",
      "Confusion matrix:\n",
      "[[98  2]\n",
      " [50  4]]\n",
      "             precision    recall  f1-score   support\n",
      "\n",
      "          0       0.66      0.98      0.79       100\n",
      "          1       0.67      0.07      0.13        54\n",
      "\n",
      "avg / total       0.66      0.66      0.56       154\n",
      "\n"
     ]
    }
   ],
   "source": [
    "#Model Evaluation\n",
    "# Predicting the Test set results with the best parameters from tuning\n",
    "prediction = grid_search.predict(np.array(X_test_scaled))\n",
    "print(\"Test accuracy score: {:.2f}\".format(grid_search.score(X_test_scaled,y_test)))\n",
    "\n",
    "y_pred=[1 if x == True else 0 for [x] in prediction >= 0.5]\n",
    "\n",
    "#Accuracy: as shown above!\n",
    "print(\"Accuracy score: \",accuracy_score(y_test, y_pred))\n",
    "\n",
    "#Computing Confusion Matrix\n",
    "confusion = confusion_matrix(y_test, y_pred)\n",
    "print(\"Confusion matrix:\\n{}\".format(confusion))\n",
    "\n",
    "#Precision, Recall and F1 score \n",
    "print(classification_report(y_test, y_pred))"
   ]
  },
  {
   "cell_type": "markdown",
   "metadata": {},
   "source": [
    "###############################################Model Selection and Conclusion###################################################\n",
    "\n",
    "Based on the model evaluation metrics, the optimal model in predicting the onset of diabetes is using the tree based Gradient Boosted model. In terms of accuracy, We can see that the highest raw accuracy of the training set was the Support Vector Machines model with a predictive accuracy of 79.8% which is extremely close to 80%. This is followed shortly by Gradient Boosted Trees (79.2%) and Logistic Regression (78.6%). Our Neural Network model performed quite poorly in this iteration and this can be contributed due to time and GPU constraints which hindered the parameter tuning when finding the optimal Neural Network Model. Neural Networks are computationally heavy which factors in to the extra time and power needed to train an optimal model. Potentially if these factors were not a constraint, the Neural Network model may have been the winner but that will remain a hypothesis for now.\n",
    "\n",
    "In terms of recall and precision, we can see that the models are generally close, with the recall of the Gradient Boosted Trees leading at 80% and the other models falling close by (Logistic Regression and SVM). This shows that Gradient Boosted Trees was the best at detecting more of the positive cases in the sample when the information was fed through the algorithm. The precision score was the biggest differentiation between the models as we see Gradient Boosted Trees maintaing a high score of 80% for Precision and the other models obtaining a comparatively much lower score (60%-70%). This shows that the Gradient Boosted Trees was able to not only predict correctly most of the Diabete cases in the dataset but was able to do so with having an increase in False Positives. Although the other models had a comparatively close Recall score, those models were only able to do so by predicting a large amount of individuals as positive despite them being negative (not having diabetes). This advantage is also also strongly reflected in the f1-score, where Gradient Boosted Trees lead with a score of 79% (performed quite well in Precision and Recall).\n",
    "\n",
    "In conclusion, the model that will be deployed will be the tree-based Gradient Boosted model as the model was not only able to maintain a relatively high accuracy but it could predict a majority of the individuals correctly without an overbearing number of False Positives. The most important metric in this case would be \"Recall\" as it must be able to predict as many of the individuals that are positive to ensure the risk of an untreated patient isn't too high (false positives are better than false negatives). Although a majority of the models were close in this area, the final decision was based on the f1-score which took into account the precision score as well and in this case the Gradient Boosted Model outperformed the others. "
   ]
  }
 ],
 "metadata": {
  "kernelspec": {
   "display_name": "Python 3",
   "language": "python",
   "name": "python3"
  },
  "language_info": {
   "codemirror_mode": {
    "name": "ipython",
    "version": 3
   },
   "file_extension": ".py",
   "mimetype": "text/x-python",
   "name": "python",
   "nbconvert_exporter": "python",
   "pygments_lexer": "ipython3",
   "version": "3.6.5"
  },
  "toc": {
   "base_numbering": 1,
   "nav_menu": {},
   "number_sections": true,
   "sideBar": true,
   "skip_h1_title": false,
   "title_cell": "Table of Contents",
   "title_sidebar": "Contents",
   "toc_cell": false,
   "toc_position": {},
   "toc_section_display": true,
   "toc_window_display": false
  }
 },
 "nbformat": 4,
 "nbformat_minor": 2
}
