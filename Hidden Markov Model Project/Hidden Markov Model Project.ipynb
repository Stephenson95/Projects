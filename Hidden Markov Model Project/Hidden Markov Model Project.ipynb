{
 "cells": [
  {
   "cell_type": "code",
   "execution_count": 23,
   "metadata": {},
   "outputs": [
    {
     "name": "stdout",
     "output_type": "stream",
     "text": [
      "3.6.5 |Anaconda, Inc.| (default, Mar 29 2018, 13:32:41) [MSC v.1900 64 bit (AMD64)]\n"
     ]
    }
   ],
   "source": [
    "import sys\n",
    "print(sys.version)\n",
    "#For this notebook to work, Python must be 3.6.4 or 3.6.5\n",
    "\n",
    "import numpy as np\n",
    "import pandas as pd\n",
    "from IPython.display import display\n",
    "from pomegranate import *\n",
    "from plotnine import *"
   ]
  },
  {
   "cell_type": "code",
   "execution_count": 24,
   "metadata": {},
   "outputs": [],
   "source": [
    "#In this project, we are demonstrating the use of a hidden markov model in machine learning to predict states."
   ]
  },
  {
   "cell_type": "code",
   "execution_count": 25,
   "metadata": {},
   "outputs": [],
   "source": [
    "#Create a hidden Markov Model\n",
    "model = HiddenMarkovModel()"
   ]
  },
  {
   "cell_type": "code",
   "execution_count": 26,
   "metadata": {},
   "outputs": [],
   "source": [
    "#Define Emission Probabilities\n",
    "d1=DiscreteDistribution({'A' : 0.25, 'C' : 0.25, 'G' : 0.25, 'T' : 0.25})\n",
    "d2=DiscreteDistribution({'A' : 0.05, 'C' : 0, 'G' : 0.95, 'T' : 0})\n",
    "d3=DiscreteDistribution({'A' : 0.4, 'C' : 0.1, 'G' : 0.1, 'T' : 0.4})"
   ]
  },
  {
   "cell_type": "code",
   "execution_count": 27,
   "metadata": {},
   "outputs": [],
   "source": [
    "#Link each Emission Probability to a hidden state\n",
    "s1=State(d1, name=\"E\")\n",
    "s2=State(d2, name=\"5\")\n",
    "s3=State(d3, name=\"I\")"
   ]
  },
  {
   "cell_type": "code",
   "execution_count": 28,
   "metadata": {},
   "outputs": [],
   "source": [
    "#Adding Transitional Probabilities to the Markov Model\n",
    "model.add_transition(model.start, s1, 1)\n",
    "model.add_transition(s1, s1, 0.9)\n",
    "model.add_transition(s1, s2, 0.1)\n",
    "model.add_transition(s2, s3, 1)\n",
    "model.add_transition(s3, s3, 0.9)\n",
    "model.add_transition(s3, model.end, 0.1)\n",
    "#Initialise the model\n",
    "model.bake()"
   ]
  },
  {
   "cell_type": "code",
   "execution_count": 29,
   "metadata": {},
   "outputs": [],
   "source": [
    "#Using a DNA Sequence: https://en.wikipedia.org/wiki/Splice_site_mutation\n",
    "DNA_test=list('CTTCATGTGAAAGCAGACGTAAGTCA')"
   ]
  },
  {
   "cell_type": "code",
   "execution_count": 30,
   "metadata": {},
   "outputs": [
    {
     "name": "stdout",
     "output_type": "stream",
     "text": [
      "None-start, E, E, E, E, E, E, E, E, E, E, E, E, E, E, E, E, E, E, 5, I, I, I, I, I, I, I, None-end\n"
     ]
    }
   ],
   "source": [
    "#Using Viterbi Algorithm to predict the most probable state sequence given the DNA sequence\n",
    "print(\", \".join(state.name for i, state in model.viterbi(DNA_test)[1]))"
   ]
  },
  {
   "cell_type": "code",
   "execution_count": 31,
   "metadata": {},
   "outputs": [
    {
     "data": {
      "text/plain": [
       "[array(['C', 'T', 'G', 'T', 'A', 'A', 'C', 'T', 'T', 'A', 'C', 'G', 'T',\n",
       "        'G', 'T', 'A', 'A'], dtype='<U1'),\n",
       " array(['T', 'C', 'G', 'T', 'T', 'G', 'A', 'T', 'T', 'T', 'A', 'G', 'A',\n",
       "        'G', 'A', 'T', 'T', 'T', 'C', 'A', 'A', 'T', 'T', 'T', 'T', 'A',\n",
       "        'T', 'A', 'T', 'T', 'G', 'T', 'A', 'T', 'A', 'G', 'T', 'A', 'A',\n",
       "        'T', 'A', 'A', 'A', 'A', 'A', 'T', 'T'], dtype='<U1'),\n",
       " array(['C', 'C', 'T', 'G', 'T', 'G', 'A', 'A', 'G', 'A'], dtype='<U1'),\n",
       " array(['A', 'A', 'T', 'T', 'A', 'T', 'G', 'C', 'G', 'T', 'A', 'T', 'G',\n",
       "        'A', 'G', 'C', 'T', 'G', 'C', 'G', 'A', 'G', 'T', 'T', 'T', 'A',\n",
       "        'G', 'T', 'T', 'A'], dtype='<U1'),\n",
       " array(['A', 'A', 'G', 'T', 'G', 'A', 'A', 'C', 'T', 'T', 'A', 'T', 'A',\n",
       "        'A', 'T', 'A', 'T', 'A', 'T', 'A', 'C', 'A', 'T', 'A', 'T', 'T',\n",
       "        'G', 'C', 'A'], dtype='<U1'),\n",
       " array(['G', 'T', 'A', 'T', 'G', 'C', 'C', 'A', 'T', 'G', 'A', 'A', 'A',\n",
       "        'C', 'T', 'G', 'A', 'C', 'A', 'T', 'C', 'C', 'G', 'A', 'G', 'T',\n",
       "        'A', 'T', 'A', 'A', 'T', 'G'], dtype='<U1'),\n",
       " array(['T', 'T', 'G', 'A', 'T', 'T', 'A', 'T', 'A', 'A', 'A', 'A', 'C',\n",
       "        'T', 'T', 'T', 'G', 'T', 'C'], dtype='<U1'),\n",
       " array(['G', 'G', 'A', 'G', 'C', 'G', 'G', 'T', 'T', 'T', 'A', 'G', 'C',\n",
       "        'T', 'A', 'G', 'A', 'G', 'C', 'T', 'A', 'T', 'C', 'A', 'A'],\n",
       "       dtype='<U1'),\n",
       " array(['G', 'G', 'T', 'A', 'G', 'A', 'G', 'T', 'A', 'T', 'A', 'C', 'G',\n",
       "        'T', 'T', 'C', 'G', 'T', 'G', 'A', 'G', 'G', 'A', 'T', 'T'],\n",
       "       dtype='<U1'),\n",
       " array(['T', 'C', 'C', 'G', 'T', 'A', 'A', 'A'], dtype='<U1'),\n",
       " array(['G', 'A', 'A', 'A', 'T', 'T', 'G', 'A', 'A', 'A', 'T', 'T', 'A'],\n",
       "       dtype='<U1'),\n",
       " array(['C', 'G', 'G', 'T', 'G', 'C', 'C', 'T', 'A', 'G', 'A', 'T', 'A',\n",
       "        'T', 'A', 'A', 'T', 'T', 'A', 'A'], dtype='<U1'),\n",
       " array(['G', 'G', 'C', 'T', 'A', 'A', 'T', 'G', 'T', 'G', 'T', 'A'],\n",
       "       dtype='<U1'),\n",
       " array(['G', 'C', 'T', 'C', 'G', 'C'], dtype='<U1'),\n",
       " array(['G', 'T', 'C', 'T', 'G', 'G', 'T', 'C', 'C', 'T'], dtype='<U1'),\n",
       " array(['T', 'G', 'G', 'G', 'T', 'T', 'G', 'T', 'A', 'T', 'C', 'A', 'A',\n",
       "        'T', 'C', 'G', 'C', 'C', 'T', 'A', 'C', 'T', 'A', 'T', 'A', 'C',\n",
       "        'T', 'G', 'T', 'C', 'A', 'G', 'T', 'T', 'A', 'A', 'T', 'A', 'T'],\n",
       "       dtype='<U1'),\n",
       " array(['T', 'G', 'C', 'A'], dtype='<U1'),\n",
       " array(['A', 'T', 'A', 'A', 'C', 'A', 'A', 'G', 'G', 'T', 'G', 'A', 'T',\n",
       "        'A', 'T', 'G', 'T', 'G', 'A', 'A'], dtype='<U1'),\n",
       " array(['T', 'C', 'G', 'G', 'G', 'C', 'G', 'G', 'C', 'A', 'C', 'A', 'G',\n",
       "        'C', 'C', 'T', 'A', 'A', 'T', 'T', 'A', 'A', 'T', 'C', 'G', 'C',\n",
       "        'C', 'C', 'A', 'C', 'C', 'G', 'C', 'A', 'C', 'G', 'T', 'G', 'C',\n",
       "        'A', 'A', 'A', 'A', 'C', 'A', 'A', 'A', 'T', 'G', 'T', 'T', 'A',\n",
       "        'A', 'C', 'A'], dtype='<U1'),\n",
       " array(['A', 'T', 'G', 'C', 'G', 'T', 'T', 'A', 'C', 'G', 'C', 'C', 'A',\n",
       "        'C', 'G', 'T', 'G', 'A', 'G', 'T', 'T', 'A', 'A', 'C', 'A', 'G',\n",
       "        'C', 'G', 'T', 'C', 'T', 'A', 'T', 'T', 'T', 'A', 'T', 'C', 'T',\n",
       "        'A', 'A', 'A', 'T', 'A', 'T', 'T', 'A', 'T', 'A', 'C'], dtype='<U1')]"
      ]
     },
     "execution_count": 31,
     "metadata": {},
     "output_type": "execute_result"
    }
   ],
   "source": [
    "#Now I'm interested to see possible state sequences using the transition and emission probabilities\n",
    "#Let's generate 20 samples (fixing random state for reproducibility)\n",
    "samples=model.sample(n=20, random_state=1)\n",
    "samples"
   ]
  },
  {
   "cell_type": "code",
   "execution_count": 32,
   "metadata": {},
   "outputs": [
    {
     "data": {
      "text/plain": [
       "'CTGTAACTTACGTGTAA,TCGTTGATTTAGAGATTTCAATTTTATATTGTATAGTAATAAAAATT,CCTGTGAAGA,AATTATGCGTATGAGCTGCGAGTTTAGTTA,AAGTGAACTTATAATATATACATATTGCA,GTATGCCATGAAACTGACATCCGAGTATAATG,TTGATTATAAAACTTTGTC,GGAGCGGTTTAGCTAGAGCTATCAA,GGTAGAGTATACGTTCGTGAGGATT,TCCGTAAA,GAAATTGAAATTA,CGGTGCCTAGATATAATTAA,GGCTAATGTGTA,GCTCGC,GTCTGGTCCT,TGGGTTGTATCAATCGCCTACTATACTGTCAGTTAATAT,TGCA,ATAACAAGGTGATATGTGAA,TCGGGCGGCACAGCCTAATTAATCGCCCACCGCACGTGCAAAACAAATGTTAACA,ATGCGTTACGCCACGTGAGTTAACAGCGTCTATTTATCTAAATATTATAC'"
      ]
     },
     "execution_count": 32,
     "metadata": {},
     "output_type": "execute_result"
    }
   ],
   "source": [
    "#For ease of copy and paste\n",
    "','.join([''.join(x) for x in samples])"
   ]
  },
  {
   "cell_type": "code",
   "execution_count": 33,
   "metadata": {},
   "outputs": [],
   "source": [
    "#Insert sequences into an array\n",
    "sequences = [ np.array(list(\"CTGTAACTTACGTGTAA\")),\n",
    "             np.array(list(\"TCGTTGATTTAGAGATTTCAATTTTATATTGTATAGTAATAAAAATT\")),\n",
    "             np.array(list(\"CCTGTGAAGA\")),\n",
    "             np.array(list(\"AATTATGCGTATGAGCTGCGAGTTTAGTTA\")),\n",
    "             np.array(list(\"AAGTGAACTTATAATATATACATATTGCA\")),\n",
    "             np.array(list(\"GTATGCCATGAAACTGACATCCGAGTATAATG\")),\n",
    "             np.array(list(\"TTGATTATAAAACTTTGTC\")),\n",
    "             np.array(list(\"GGAGCGGTTTAGCTAGAGCTATCAA\")),\n",
    "             np.array(list(\"GGTAGAGTATACGTTCGTGAGGATT\")),\n",
    "             np.array(list(\"TCCGTAAA\")),\n",
    "             np.array(list(\"GAAATTGAAATTA\")),\n",
    "             np.array(list(\"CGGTGCCTAGATATAATTAA\")),\n",
    "             np.array(list(\"GGCTAATGTGTA\")),\n",
    "             np.array(list(\"GCTCGC\")),\n",
    "             np.array(list(\"GTCTGGTCCT\")), \n",
    "             np.array(list(\"TGGGTTGTATCAATCGCCTACTATACTGTCAGTTAATAT\")),\n",
    "             np.array(list(\"TGCA\")),\n",
    "             np.array(list(\"ATAACAAGGTGATATGTGAA\")),\n",
    "             np.array(list(\"TCGGGCGGCACAGCCTAATTAATCGCCCACCGCACGTGCAAAACAAATGTTAACA\")),           \n",
    "             np.array(list(\"ATGCGTTACGCCACGTGAGTTAACAGCGTCTATTTATCTAAATATTATAC\")) ]"
   ]
  },
  {
   "cell_type": "code",
   "execution_count": 34,
   "metadata": {},
   "outputs": [],
   "source": [
    "#Creating another model\n",
    "model = HiddenMarkovModel('DNA Decodification')"
   ]
  },
  {
   "cell_type": "code",
   "execution_count": 35,
   "metadata": {},
   "outputs": [],
   "source": [
    "#To simulate real probabilities in real life, adding \"randomised probabilities\" \n",
    "\n",
    "# Type Python code here:\n",
    "#Defining the Emission Probabilities\n",
    "d1=DiscreteDistribution({'A' : 0.25, 'C' : 0.25, 'G' : 0.25, 'T' : 0.25})\n",
    "d2=DiscreteDistribution({'A' : 0.05, 'C' : 0, 'G' : 0.95, 'T' : 0})\n",
    "d3=DiscreteDistribution({'A' : 0.4, 'C' : 0.1, 'G' : 0.1, 'T' : 0.4})\n",
    "\n",
    "#Link the Emission Probabilities to the hidden states\n",
    "s1=State(d1, name=\"E\")\n",
    "s2=State(d2, name=\"5\")\n",
    "s3=State(d3, name=\"I\")\n",
    "\n",
    "#Generate a numpy array from 0 to 1 as the probability array\n",
    "prob = np.array([0,0.1,0.2,0.3,0.4,0.5,0.6,0.7,0.8,0.9,1])\n",
    "\n",
    "#Generate randomised probabilities for each transition\n",
    "s11 =  np.random.choice(prob)\n",
    "s12 =  1-s11\n",
    "s33 =  np.random.choice(prob)\n",
    "s_end = 1-s33\n",
    "\n",
    "#Add randomised probabilities\n",
    "model.add_transition(s1, s1, s11)\n",
    "model.add_transition(s1, s2, s12)\n",
    "model.add_transition(s3, s3, s33)\n",
    "model.add_transition(s3, model.end, s_end)\n",
    "\n",
    "\n",
    "#Add the known transition probabilities and initialise\n",
    "model.add_transition(model.start, s1, 1)\n",
    "model.add_transition(s2, s3, 1)\n",
    "\n",
    "model.bake()\n"
   ]
  },
  {
   "cell_type": "code",
   "execution_count": 36,
   "metadata": {},
   "outputs": [
    {
     "data": {
      "text/plain": [
       "{\n",
       "    \"class\" : \"HiddenMarkovModel\",\n",
       "    \"name\" : \"DNA Decodification\",\n",
       "    \"start\" : {\n",
       "        \"class\" : \"State\",\n",
       "        \"distribution\" : null,\n",
       "        \"name\" : \"DNA Decodification-start\",\n",
       "        \"weight\" : 1.0\n",
       "    },\n",
       "    \"end\" : {\n",
       "        \"class\" : \"State\",\n",
       "        \"distribution\" : null,\n",
       "        \"name\" : \"DNA Decodification-end\",\n",
       "        \"weight\" : 1.0\n",
       "    },\n",
       "    \"states\" : [\n",
       "        {\n",
       "            \"class\" : \"State\",\n",
       "            \"distribution\" : {\n",
       "                \"class\" : \"Distribution\",\n",
       "                \"dtype\" : \"str\",\n",
       "                \"name\" : \"DiscreteDistribution\",\n",
       "                \"parameters\" : [\n",
       "                    {\n",
       "                        \"A\" : 0.012157633766847677,\n",
       "                        \"C\" : 0.0,\n",
       "                        \"G\" : 0.9878423662331521,\n",
       "                        \"T\" : 0.0\n",
       "                    }\n",
       "                ],\n",
       "                \"frozen\" : false\n",
       "            },\n",
       "            \"name\" : \"5\",\n",
       "            \"weight\" : 1.0\n",
       "        },\n",
       "        {\n",
       "            \"class\" : \"State\",\n",
       "            \"distribution\" : {\n",
       "                \"class\" : \"Distribution\",\n",
       "                \"dtype\" : \"str\",\n",
       "                \"name\" : \"DiscreteDistribution\",\n",
       "                \"parameters\" : [\n",
       "                    {\n",
       "                        \"A\" : 0.24860447372757524,\n",
       "                        \"C\" : 0.21997526097177053,\n",
       "                        \"G\" : 0.24880578120153715,\n",
       "                        \"T\" : 0.28261448409911705\n",
       "                    }\n",
       "                ],\n",
       "                \"frozen\" : false\n",
       "            },\n",
       "            \"name\" : \"E\",\n",
       "            \"weight\" : 1.0\n",
       "        },\n",
       "        {\n",
       "            \"class\" : \"State\",\n",
       "            \"distribution\" : {\n",
       "                \"class\" : \"Distribution\",\n",
       "                \"dtype\" : \"str\",\n",
       "                \"name\" : \"DiscreteDistribution\",\n",
       "                \"parameters\" : [\n",
       "                    {\n",
       "                        \"A\" : 0.4297243790052823,\n",
       "                        \"C\" : 0.10029309565436825,\n",
       "                        \"G\" : 0.07593190674038935,\n",
       "                        \"T\" : 0.3940506185999597\n",
       "                    }\n",
       "                ],\n",
       "                \"frozen\" : false\n",
       "            },\n",
       "            \"name\" : \"I\",\n",
       "            \"weight\" : 1.0\n",
       "        },\n",
       "        {\n",
       "            \"class\" : \"State\",\n",
       "            \"distribution\" : null,\n",
       "            \"name\" : \"DNA Decodification-start\",\n",
       "            \"weight\" : 1.0\n",
       "        },\n",
       "        {\n",
       "            \"class\" : \"State\",\n",
       "            \"distribution\" : null,\n",
       "            \"name\" : \"DNA Decodification-end\",\n",
       "            \"weight\" : 1.0\n",
       "        }\n",
       "    ],\n",
       "    \"end_index\" : 4,\n",
       "    \"start_index\" : 3,\n",
       "    \"silent_index\" : 3,\n",
       "    \"edges\" : [\n",
       "        [\n",
       "            3,\n",
       "            1,\n",
       "            1.0,\n",
       "            1,\n",
       "            null\n",
       "        ],\n",
       "        [\n",
       "            1,\n",
       "            1,\n",
       "            0.9195895500551317,\n",
       "            0.7,\n",
       "            null\n",
       "        ],\n",
       "        [\n",
       "            1,\n",
       "            0,\n",
       "            0.0804104499448684,\n",
       "            0.30000000000000004,\n",
       "            null\n",
       "        ],\n",
       "        [\n",
       "            0,\n",
       "            2,\n",
       "            1.0,\n",
       "            1,\n",
       "            null\n",
       "        ],\n",
       "        [\n",
       "            2,\n",
       "            2,\n",
       "            0.9011252484812411,\n",
       "            0.5,\n",
       "            null\n",
       "        ],\n",
       "        [\n",
       "            2,\n",
       "            4,\n",
       "            0.09887475151875894,\n",
       "            0.5,\n",
       "            null\n",
       "        ]\n",
       "    ],\n",
       "    \"distribution ties\" : []\n",
       "}"
      ]
     },
     "execution_count": 36,
     "metadata": {},
     "output_type": "execute_result"
    }
   ],
   "source": [
    "#Fitting and training the model with the sequences generated previously using Baum-Welch algorithm\n",
    "model.fit(sequences, algorithm='baum-welch', stop_threshold=0.01)"
   ]
  },
  {
   "cell_type": "code",
   "execution_count": 37,
   "metadata": {},
   "outputs": [],
   "source": [
    "#Defining the DNA list in the previous exercise\n",
    "DNA_test=list('CTTCATGTGAAAGCAGACGTAAGTCA')"
   ]
  },
  {
   "cell_type": "code",
   "execution_count": 38,
   "metadata": {},
   "outputs": [
    {
     "name": "stdout",
     "output_type": "stream",
     "text": [
      "DNA Decodification-start, E, E, E, E, E, E, E, E, E, E, E, E, E, E, E, E, E, E, 5, I, I, I, I, I, I, I, DNA Decodification-end\n"
     ]
    }
   ],
   "source": [
    "#Extract the most probable sequence\n",
    "print(\", \".join(state.name for i, state in model.viterbi(DNA_test)[1]))"
   ]
  },
  {
   "cell_type": "code",
   "execution_count": 39,
   "metadata": {},
   "outputs": [
    {
     "name": "stdout",
     "output_type": "stream",
     "text": [
      "It seems to be similar in regards to the sequencing of the states except that state E and I seems to have been switched around\n"
     ]
    }
   ],
   "source": [
    "print(\"It seems to be similar in regards to the sequencing of the states except that state E and I seems to have been switched around\")"
   ]
  }
 ],
 "metadata": {
  "kernelspec": {
   "display_name": "Python 3",
   "language": "python",
   "name": "python3"
  },
  "language_info": {
   "codemirror_mode": {
    "name": "ipython",
    "version": 3
   },
   "file_extension": ".py",
   "mimetype": "text/x-python",
   "name": "python",
   "nbconvert_exporter": "python",
   "pygments_lexer": "ipython3",
   "version": "3.6.5"
  },
  "toc": {
   "base_numbering": 1,
   "nav_menu": {},
   "number_sections": true,
   "sideBar": true,
   "skip_h1_title": false,
   "title_cell": "Table of Contents",
   "title_sidebar": "Contents",
   "toc_cell": false,
   "toc_position": {},
   "toc_section_display": true,
   "toc_window_display": false
  }
 },
 "nbformat": 4,
 "nbformat_minor": 2
}
